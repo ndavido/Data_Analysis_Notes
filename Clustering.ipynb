{
 "cells": [
  {
   "cell_type": "markdown",
   "metadata": {},
   "source": [
    "- __Clustering__ is a machine learning technique that uses unsupervised learning.\n",
    "- Group unlabelled data into natural clusters.\n",
    "- Clustering is an optimization problem.\n",
    "- $variability(c) = \\sum_{e \\in c} distance(mean(c), e)^2$\n",
    "- Variance is different from variability, you don't divide by n. This is because in clustering big and bad is worse than small and bad.\n",
    "- $dissimlarity(C) = \\sum_{c \\in C}variability(c)$\n",
    "- Find a C that minimises dissimlarity\n",
    "- In order for this not to end up as each point being a cluster we add a constraint e.g. the clusters have to have some mini"
   ]
  },
  {
   "cell_type": "markdown",
   "metadata": {},
   "source": [
    "__Hierarchical Clustering__\n",
    "- Start by assigning each item to a cluster so that if you have N items you now have N clustering, each containing just one item.\n",
    "- Find the closest (most similar) pair"
   ]
  },
  {
   "cell_type": "markdown",
   "metadata": {},
   "source": [
    "- __Single Linkage__\n",
    "\n",
    "_Sequential merging based on nearest points leads to a single cluster, consistent with your steps._\n",
    "\n",
    "[0] [4] [6] [30] [39] [52] [56] [58]\n",
    "\n",
    "[0] [4, 6] [30] [39] [52] [56, 58]\n",
    "\n",
    "[0, 4, 6] [30] [39] [52, 56, 58]\n",
    "\n",
    "[0, 4, 6] [30, 39] [52, 56, 58]\n",
    "\n",
    "[0, 4, 6] [30, 39, 52, 56, 58]\n",
    "\n",
    "- __Complete Linkage__\n",
    "\n",
    "_Sequential merging based on furthest points, with potentially more steps to ensure no cluster exceeds a maximum distance threshold._\n",
    "\n",
    "[0] [4] [6] [30] [39] [52] [56] [58]\n",
    "\n",
    "[0] [4, 6] [30] [39] [52] [56, 58]\n",
    "\n",
    "[0, 4, 6] [30] [39] [52, 56, 58]\n",
    "\n",
    "[0, 4, 6] [30, 39] [52, 56, 58]\n",
    "\n",
    "[0, 4, 6] [30, 39, 52, 56, 58]\n",
    "\n",
    "- __Average Linkage__\n",
    "\n",
    "[0] [4] [6] [30] [39] [52] [56] [58]\n",
    "\n",
    "[0] [4, 6] [30] [39] [52] [56, 58]\n",
    "\n",
    "[0, 4, 6] [30] [39] [52, 56, 58]\n",
    "\n",
    "[0, 4, 6] [30, 39] [52, 56, 58]\n",
    "\n",
    "[0, 4, 6] [30, 39, 52, 56, 58]"
   ]
  },
  {
   "cell_type": "markdown",
   "metadata": {},
   "source": []
  }
 ],
 "metadata": {
  "language_info": {
   "name": "python"
  }
 },
 "nbformat": 4,
 "nbformat_minor": 2
}
