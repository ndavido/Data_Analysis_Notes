{
 "cells": [
  {
   "cell_type": "markdown",
   "metadata": {},
   "source": [
    "Notes that follow from The Visual Display of Quantitative Information by Edward Tufte.\n",
    "\n",
    "- Excellence in statistical graphics consists of complex ideas communicated with clarity, precision and efficiency. Graphical displays should:\n",
    "    - Show the data.\n",
    "    - Induce the viewer to thik about the substance rather than about methodology, graphics design, or how the graph was produced or anything else.\n",
    "    - Avoid distorting what the data have to say.\n",
    "    - Present many numbers in a small space.\n",
    "    - Make large datasets coherant.\n",
    "    - Encourage the eye to compare different pieces of data.\n",
    "    - Reveal the data at several levels of detail, from a broad oerview to a fine perspective.\n",
    "    - Serve a reasonable clear purpose: description, expoloration, tabulation, or decoration.\n",
    "    - Closely integrated with statistical and verbal descriptions of the data.\n",
    "    - Graphics should reveal data"
   ]
  },
  {
   "cell_type": "markdown",
   "metadata": {},
   "source": []
  }
 ],
 "metadata": {
  "language_info": {
   "name": "python"
  }
 },
 "nbformat": 4,
 "nbformat_minor": 2
}
