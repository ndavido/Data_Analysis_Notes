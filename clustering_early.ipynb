{
 "cells": [
  {
   "cell_type": "markdown",
   "id": "66b319c4",
   "metadata": {},
   "source": [
    "<ul>\n",
    "    <li><b>Clustering</b> is a machine learning technique that uses unsupervised learning.</li>\n",
    "    <li> Group unlabelled data into natural clusters </li>\n",
    "    <li> Clustering is an optimization problem </li>\n",
    "    <li> $variability(c) = \\sum_{e \\in c} distance(mean(c), e)^2$</li>\n",
    "    <li> Variance is different from variability, you don't divide by n. This is because in clustering big and bad is worse than small and bad. </li>\n",
    "    <li>$dissimilarity(C) = \\sum_{c \\in C}variability(c)$</li>\n",
    "    <li> Find a C that minimises dissimilarity</li>\n",
    "    <li> In order for this not to end up as each point being a cluster we add a constraint e.g. the clusters have to have some minimum distance between them or constrain the number of clusters</li>\n",
    "    </ul>"
   ]
  },
  {
   "cell_type": "markdown",
   "id": "36dd20ca",
   "metadata": {},
   "source": [
    "<ul>\n",
    "    <li><b>Hieracrhical Clustering </b></li>\n",
    "    <li> Start by assigning each item to a cluster so that if you have N items you now have N clusters, each containing just one item</li>\n",
    "    <li>Find the closest (most similar) pair of clusters and merge them into a single cluster, so that now you have one fewer clusters</li>\n",
    "    <li>Continue until all items are clustered into a single cluster of size N</li>\n",
    "    <li> Agglomerative hierarchical clustering </li>\n",
    "    <li> What do we mean by closest?</li>\n",
    "    <li> Can get different clusters depending linkage metric we use </li>\n",
    "    <li> <b>Single Linkage:</b> consider the distance between one clsuter and another cluster to be equal to the shortest distance from any member of one cluster to any member of another cluster</li>\n",
    "    <li><b>Complete linkage</b>: consider the distance between one cluster and another cluster to be equal to the greatest distance from any member of one cluster to any member of the other cluster</li>\n",
    "    <li><b>Average linkage</b>: consider the distance between one cluster and another cluster to be te average distance from any member of one cluster to any member of the other cluster</li>\n",
    "    <ul>\n",
    "    "
   ]
  },
  {
   "cell_type": "markdown",
   "id": "02c3a929",
   "metadata": {},
   "source": [
    "<table style=\"width:50%\">\n",
    "<tr>\n",
    "    <th>BOS</th>    \n",
    "    <th>NY</th>\n",
    "    <th>CHI</th>\n",
    "    <th>DEN</th>\n",
    "    <th>SF</th>\n",
    "    <th>SEA</th>\n",
    "</tr>\n",
    "<tr>\n",
    "    <th>0</th>    \n",
    "    <th>206</th>\n",
    "    <th>963</th>\n",
    "    <th>1949</th>\n",
    "    <th>3095</th>\n",
    "    <th>2979</th>\n",
    "</tr>\n",
    "    <tr>\n",
    "    <th>0</th>    \n",
    "    <th>0</th>\n",
    "    <th>802</th>\n",
    "    <th>1771</th>\n",
    "    <th>2934</th>\n",
    "    <th>2815</th>\n",
    "</tr>\n",
    "<tr>\n",
    "    <th>0</th>    \n",
    "    <th>0</th>\n",
    "    <th>0</th>\n",
    "    <th>966</th>\n",
    "    <th>1235</th>\n",
    "    <th>1307</th>\n",
    "</tr>\n",
    "<tr>\n",
    "    <th>0</th>    \n",
    "    <th>0</th>\n",
    "    <th>0</th>\n",
    "    <th>0</th>\n",
    "    <th>1235</th>\n",
    "    <th>1307</th>\n",
    "</tr>\n",
    "<tr>\n",
    "    <th>0</th>    \n",
    "    <th>0</th>\n",
    "    <th>0</th>\n",
    "    <th>0</th>\n",
    "    <th>0</th>\n",
    "    <th>808</th>\n",
    "</tr>\n",
    "<tr>\n",
    "    <th>0</th>    \n",
    "    <th>0</th>\n",
    "    <th>0</th>\n",
    "    <th>0</th>\n",
    "    <th>0</th>\n",
    "    <th>0</th>\n",
    "</tr>\n",
    "\n",
    "</table>"
   ]
  },
  {
   "cell_type": "markdown",
   "id": "3ce19f41",
   "metadata": {},
   "source": [
    "Cluster airports based on their distance."
   ]
  },
  {
   "cell_type": "markdown",
   "id": "ece584a4-b9b9-4abc-b172-a66057b62882",
   "metadata": {},
   "source": [
    "<b>Clusters</b>\n",
    "<ul>\n",
    "    <li> [BOS, NY] [CHI] [DEN] [SF] [SEA] </li>\n",
    "    <li> [BOS, NY, CHI] [DEN] [SF] [SEA] </li>\n",
    "    <li> [BOS, NY, CHI] [DEN] [SF, SEA] </li>\n",
    "    <li> <b>Single</b>[BOS, NY, CHI, DEN] [SF, SEA] </li>\n",
    "    <li> <b>Complete</b>[BOS, NY, CHI] [DEN, SF, SEA] </li>\n",
    "</ul>"
   ]
  },
  {
   "cell_type": "markdown",
   "id": "be6a4b31-62c9-49b8-9ccd-181c61b9c63b",
   "metadata": {},
   "source": [
    "<b> Pros and cons of hierarchical clustering</b>\n",
    "<ul>\n",
    "    <li>Get a history of dendrograms</li>\n",
    "    <li>Deterministic given a linkage metric</li>\n",
    "    <li> Answer might not be optimal. Greedy algorithm. Making locally optimal decisions at each point may or may not give us a globally optimal solution</li>\n",
    "    <li> Flexible</li>\n",
    "    <li> Really slow, complexity $O(n^3)$. Not something you want to work with on large datasets</li>\n",
    "</ul>"
   ]
  },
  {
   "cell_type": "code",
   "execution_count": 2,
   "id": "6eafc79a-e68f-41b0-bea4-9f6670b391f4",
   "metadata": {},
   "outputs": [
    {
     "data": {
      "image/png": "[encoded data removed]",
      "text/plain": [
       "<Figure size 640x480 with 1 Axes>"
      ]
     },
     "metadata": {},
     "output_type": "display_data"
    }
   ],
   "source": [
    "import numpy as np\n",
    "import matplotlib.pyplot as plt\n",
    "import scipy.cluster.hierarchy as sch\n",
    "\n",
    "data = [0, 4, 6, 30, 39, 52, 56, 58]\n",
    "Z = np.reshape(data,(len(data), 1))\n",
    "dendrogram = sch.dendrogram(sch.linkage(Z, method='average'), labels=data)\n"
   ]
  },
  {
   "cell_type": "code",
   "execution_count": 3,
   "id": "e6bbe864-5d5f-4bc2-8091-96e9414ed029",
   "metadata": {},
   "outputs": [],
   "source": [
    "airports = ['BOS', 'NY', 'CHI', 'DEN', 'SF', 'SEA']\n",
    "distance = [[0, 206, 963, 1949, 3095, 2979], \n",
    "            [206, 0, 802, 1771, 2934, 2815],\n",
    "            [963, 802, 0, 966, 2142, 2013],\n",
    "            [1949, 1771, 966, 0, 1235, 1307],\n",
    "            [3095, 2934, 2142, 1235, 0, 808],\n",
    "            [2979, 2815, 2013, 1307, 808, 0]]"
   ]
  },
  {
   "cell_type": "code",
   "execution_count": 4,
   "id": "66d78f83-babc-449a-904f-b663ef15ec86",
   "metadata": {},
   "outputs": [
    {
     "data": {
      "image/png": "[encoded data removed]",
      "text/plain": [
       "<Figure size 640x480 with 1 Axes>"
      ]
     },
     "metadata": {},
     "output_type": "display_data"
    }
   ],
   "source": [
    "from scipy.spatial.distance import squareform\n",
    "condensed_dist_matrix = squareform(distance)\n",
    "dendrogram = sch.dendrogram(sch.linkage(condensed_dist_matrix, method='average'), labels=airports)"
   ]
  },
  {
   "cell_type": "code",
   "execution_count": 5,
   "id": "b6462e86-4253-489b-bd87-b39799e8a6e1",
   "metadata": {},
   "outputs": [],
   "source": [
    "import numpy as np\n",
    "import matplotlib.pyplot as plt\n",
    "from sklearn.datasets import make_blobs\n"
   ]
  },
  {
   "cell_type": "code",
   "execution_count": 6,
   "id": "05a08951-31b8-43d3-9906-1257aaef9879",
   "metadata": {},
   "outputs": [],
   "source": [
    "dataset = make_blobs(n_samples=50, n_features=2, centers=4, cluster_std=1.6, random_state=50)"
   ]
  },
  {
   "cell_type": "code",
   "execution_count": 7,
   "id": "5449b7d4-21a4-4be9-bcf2-be20c97a49d6",
   "metadata": {},
   "outputs": [],
   "source": [
    "points = dataset[0]"
   ]
  },
  {
   "cell_type": "code",
   "execution_count": 8,
   "id": "1593bcf9-06e8-4104-89b8-09b2b5992a3c",
   "metadata": {},
   "outputs": [
    {
     "data": {
      "text/plain": [
       "array([[-0.48428125,  6.1339592 ],\n",
       "       [ 0.11528327, -4.98158692],\n",
       "       [ 0.09417313, -4.05882797],\n",
       "       [-7.556685  , -2.42379349],\n",
       "       [ 0.59860361,  3.34704241],\n",
       "       [-4.73695683, -1.23390307],\n",
       "       [-1.88583355, -0.65794471],\n",
       "       [-1.25918778,  8.42166447],\n",
       "       [-5.46469501, -1.4677575 ],\n",
       "       [-5.21118763, -0.88454091],\n",
       "       [-2.39128542,  9.5902579 ],\n",
       "       [-3.79577694, -3.94197151],\n",
       "       [-0.55798628, -2.70088621],\n",
       "       [-2.84694071, 11.70447814],\n",
       "       [-5.88958899, -1.47219541],\n",
       "       [-0.4497762 ,  4.58102297],\n",
       "       [-6.15966811, -2.13553844],\n",
       "       [-0.10009538,  8.99929345],\n",
       "       [-2.15963524, -7.56230415],\n",
       "       [-3.51874239, -4.48330466],\n",
       "       [-1.32101631, 10.72186833],\n",
       "       [ 5.19455346, -3.85790517],\n",
       "       [ 1.00681205, -5.97364221],\n",
       "       [-1.16539558,  7.39086886],\n",
       "       [-3.25968528,  5.44630828],\n",
       "       [-5.39405829,  0.12384806],\n",
       "       [-3.87922543,  9.49845046],\n",
       "       [-2.31431452,  9.98631399],\n",
       "       [-1.92013725,  4.42303016],\n",
       "       [-2.10577527,  5.12444161],\n",
       "       [-2.24909426,  5.51332975],\n",
       "       [-0.56211354, -4.45962342],\n",
       "       [-2.71698662, 10.37660367],\n",
       "       [-0.34759371, -4.33384716],\n",
       "       [-3.58545672, -1.99099252],\n",
       "       [-0.73829645, -5.2013526 ],\n",
       "       [-2.1545355 ,  5.99856908],\n",
       "       [-1.70400879, -2.88008464],\n",
       "       [-2.51936023,  5.24390715],\n",
       "       [-2.0981081 , 10.33438636],\n",
       "       [-0.76754221, -5.69548201],\n",
       "       [-0.67041938,  8.03267267],\n",
       "       [-1.35671783, -3.72590953],\n",
       "       [-1.61603241,  4.287006  ],\n",
       "       [ 1.64436813, -3.29688399],\n",
       "       [ 0.09021892, -4.24988128],\n",
       "       [ 0.85161314, 11.67201882],\n",
       "       [-7.08089219, -1.2951176 ],\n",
       "       [-3.68488684, -1.49185846],\n",
       "       [-2.41674576,  1.32440828]])"
      ]
     },
     "execution_count": 8,
     "metadata": {},
     "output_type": "execute_result"
    }
   ],
   "source": [
    "points\n"
   ]
  },
  {
   "cell_type": "code",
   "execution_count": 9,
   "id": "235a2b3a-0623-4045-8245-af6fcaed5cf7",
   "metadata": {},
   "outputs": [],
   "source": [
    "import scipy.cluster.hierarchy as sch\n",
    "from sklearn.cluster import AgglomerativeClustering"
   ]
  },
  {
   "cell_type": "code",
   "execution_count": 10,
   "id": "da2ed7cf-c31e-4309-8681-ff5c1ee416dd",
   "metadata": {},
   "outputs": [
    {
     "data": {
      "image/png": "[encoded data removed]",
      "text/plain": [
       "<Figure size 640x480 with 1 Axes>"
      ]
     },
     "metadata": {},
     "output_type": "display_data"
    }
   ],
   "source": [
    "dendrogram = sch.dendrogram(sch.linkage(points, method='average'))"
   ]
  },
  {
   "cell_type": "code",
   "execution_count": 11,
   "id": "1a719e01-fbd6-4f4e-b44b-2dbcd54536c7",
   "metadata": {},
   "outputs": [
    {
     "data": {
      "text/plain": [
       "<matplotlib.collections.PathCollection at 0x1ac6a54cf10>"
      ]
     },
     "execution_count": 11,
     "metadata": {},
     "output_type": "execute_result"
    },
    {
     "data": {
      "image/png": "[encoded data removed]",
      "text/plain": [
       "<Figure size 640x480 with 1 Axes>"
      ]
     },
     "metadata": {},
     "output_type": "display_data"
    }
   ],
   "source": [
    "plt.scatter(dataset[0][:, 0], dataset[0][:,1])"
   ]
  },
  {
   "cell_type": "code",
   "execution_count": 12,
   "id": "ffdf81c1-2979-46d3-8e85-2c6b4f71bece",
   "metadata": {},
   "outputs": [
    {
     "data": {
      "text/plain": [
       "<matplotlib.collections.PathCollection at 0x1ac6a56e610>"
      ]
     },
     "execution_count": 12,
     "metadata": {},
     "output_type": "execute_result"
    },
    {
     "data": {
      "image/png": "[encoded data removed]",
      "text/plain": [
       "<Figure size 640x480 with 1 Axes>"
      ]
     },
     "metadata": {},
     "output_type": "display_data"
    }
   ],
   "source": [
    "hc = AgglomerativeClustering(n_clusters=4, linkage='complete', metric='euclidean')\n",
    "y_hc = hc.fit_predict(points)\n",
    "plt.scatter(points[y_hc==0,0], points[y_hc==0,1], s=100, c='cyan')\n",
    "plt.scatter(points[y_hc==1,0], points[y_hc==1,1], s=100, c='yellow')\n",
    "plt.scatter(points[y_hc==2,0], points[y_hc==2,1], s=100, c='red')\n",
    "plt.scatter(points[y_hc==3,0], points[y_hc==3,1], s=100, c='green')"
   ]
  },
  {
   "cell_type": "code",
   "execution_count": 13,
   "id": "906a9b40-8af5-4cf1-aaaf-4269a9f55f81",
   "metadata": {},
   "outputs": [
    {
     "data": {
      "text/html": [
       "<div>\n",
       "<style scoped>\n",
       "    .dataframe tbody tr th:only-of-type {\n",
       "        vertical-align: middle;\n",
       "    }\n",
       "\n",
       "    .dataframe tbody tr th {\n",
       "        vertical-align: top;\n",
       "    }\n",
       "\n",
       "    .dataframe thead th {\n",
       "        text-align: right;\n",
       "    }\n",
       "</style>\n",
       "<table border=\"1\" class=\"dataframe\">\n",
       "  <thead>\n",
       "    <tr style=\"text-align: right;\">\n",
       "      <th></th>\n",
       "      <th>credit_policy</th>\n",
       "      <th>purpose</th>\n",
       "      <th>int_rate</th>\n",
       "      <th>installment</th>\n",
       "      <th>log_annual_inc</th>\n",
       "      <th>dti</th>\n",
       "      <th>fico</th>\n",
       "      <th>days_with_cr_line</th>\n",
       "      <th>revol_bal</th>\n",
       "      <th>revol_util</th>\n",
       "      <th>inq_last_6mths</th>\n",
       "      <th>delinq_2yrs</th>\n",
       "      <th>pub_rec</th>\n",
       "      <th>not_fully_paid</th>\n",
       "    </tr>\n",
       "  </thead>\n",
       "  <tbody>\n",
       "    <tr>\n",
       "      <th>0</th>\n",
       "      <td>1</td>\n",
       "      <td>debt_consolidation</td>\n",
       "      <td>0.1189</td>\n",
       "      <td>829.10</td>\n",
       "      <td>11.350407</td>\n",
       "      <td>19.48</td>\n",
       "      <td>737</td>\n",
       "      <td>5639.958333</td>\n",
       "      <td>28854</td>\n",
       "      <td>52.1</td>\n",
       "      <td>0</td>\n",
       "      <td>0</td>\n",
       "      <td>0</td>\n",
       "      <td>0</td>\n",
       "    </tr>\n",
       "    <tr>\n",
       "      <th>1</th>\n",
       "      <td>1</td>\n",
       "      <td>credit_card</td>\n",
       "      <td>0.1071</td>\n",
       "      <td>228.22</td>\n",
       "      <td>11.082143</td>\n",
       "      <td>14.29</td>\n",
       "      <td>707</td>\n",
       "      <td>2760.000000</td>\n",
       "      <td>33623</td>\n",
       "      <td>76.7</td>\n",
       "      <td>0</td>\n",
       "      <td>0</td>\n",
       "      <td>0</td>\n",
       "      <td>0</td>\n",
       "    </tr>\n",
       "    <tr>\n",
       "      <th>2</th>\n",
       "      <td>1</td>\n",
       "      <td>debt_consolidation</td>\n",
       "      <td>0.1357</td>\n",
       "      <td>366.86</td>\n",
       "      <td>10.373491</td>\n",
       "      <td>11.63</td>\n",
       "      <td>682</td>\n",
       "      <td>4710.000000</td>\n",
       "      <td>3511</td>\n",
       "      <td>25.6</td>\n",
       "      <td>1</td>\n",
       "      <td>0</td>\n",
       "      <td>0</td>\n",
       "      <td>0</td>\n",
       "    </tr>\n",
       "    <tr>\n",
       "      <th>3</th>\n",
       "      <td>1</td>\n",
       "      <td>debt_consolidation</td>\n",
       "      <td>0.1008</td>\n",
       "      <td>162.34</td>\n",
       "      <td>11.350407</td>\n",
       "      <td>8.10</td>\n",
       "      <td>712</td>\n",
       "      <td>2699.958333</td>\n",
       "      <td>33667</td>\n",
       "      <td>73.2</td>\n",
       "      <td>1</td>\n",
       "      <td>0</td>\n",
       "      <td>0</td>\n",
       "      <td>0</td>\n",
       "    </tr>\n",
       "    <tr>\n",
       "      <th>4</th>\n",
       "      <td>1</td>\n",
       "      <td>credit_card</td>\n",
       "      <td>0.1426</td>\n",
       "      <td>102.92</td>\n",
       "      <td>11.299732</td>\n",
       "      <td>14.97</td>\n",
       "      <td>667</td>\n",
       "      <td>4066.000000</td>\n",
       "      <td>4740</td>\n",
       "      <td>39.5</td>\n",
       "      <td>0</td>\n",
       "      <td>1</td>\n",
       "      <td>0</td>\n",
       "      <td>0</td>\n",
       "    </tr>\n",
       "  </tbody>\n",
       "</table>\n",
       "</div>"
      ],
      "text/plain": [
       "   credit_policy             purpose  int_rate  installment  log_annual_inc  \\\n",
       "0              1  debt_consolidation    0.1189       829.10       11.350407   \n",
       "1              1         credit_card    0.1071       228.22       11.082143   \n",
       "2              1  debt_consolidation    0.1357       366.86       10.373491   \n",
       "3              1  debt_consolidation    0.1008       162.34       11.350407   \n",
       "4              1         credit_card    0.1426       102.92       11.299732   \n",
       "\n",
       "     dti  fico  days_with_cr_line  revol_bal  revol_util  inq_last_6mths  \\\n",
       "0  19.48   737        5639.958333      28854        52.1               0   \n",
       "1  14.29   707        2760.000000      33623        76.7               0   \n",
       "2  11.63   682        4710.000000       3511        25.6               1   \n",
       "3   8.10   712        2699.958333      33667        73.2               1   \n",
       "4  14.97   667        4066.000000       4740        39.5               0   \n",
       "\n",
       "   delinq_2yrs  pub_rec  not_fully_paid  \n",
       "0            0        0               0  \n",
       "1            0        0               0  \n",
       "2            0        0               0  \n",
       "3            0        0               0  \n",
       "4            1        0               0  "
      ]
     },
     "execution_count": 13,
     "metadata": {},
     "output_type": "execute_result"
    }
   ],
   "source": [
    "import pandas as pd\n",
    "loan_data = pd.read_csv(\"loan_data3.csv\")\n",
    "loan_data.head()"
   ]
  },
  {
   "cell_type": "code",
   "execution_count": 14,
   "id": "be4dbdc7-b578-4b00-81bf-91f45278468c",
   "metadata": {},
   "outputs": [
    {
     "name": "stdout",
     "output_type": "stream",
     "text": [
      "<class 'pandas.core.frame.DataFrame'>\n",
      "RangeIndex: 9578 entries, 0 to 9577\n",
      "Data columns (total 14 columns):\n",
      " #   Column             Non-Null Count  Dtype  \n",
      "---  ------             --------------  -----  \n",
      " 0   credit_policy      9578 non-null   int64  \n",
      " 1   purpose            9578 non-null   object \n",
      " 2   int_rate           9578 non-null   float64\n",
      " 3   installment        9578 non-null   float64\n",
      " 4   log_annual_inc     9578 non-null   float64\n",
      " 5   dti                9578 non-null   float64\n",
      " 6   fico               9578 non-null   int64  \n",
      " 7   days_with_cr_line  9578 non-null   float64\n",
      " 8   revol_bal          9578 non-null   int64  \n",
      " 9   revol_util         9578 non-null   float64\n",
      " 10  inq_last_6mths     9578 non-null   int64  \n",
      " 11  delinq_2yrs        9578 non-null   int64  \n",
      " 12  pub_rec            9578 non-null   int64  \n",
      " 13  not_fully_paid     9578 non-null   int64  \n",
      "dtypes: float64(6), int64(7), object(1)\n",
      "memory usage: 1.0+ MB\n"
     ]
    }
   ],
   "source": [
    "loan_data.info()"
   ]
  },
  {
   "cell_type": "code",
   "execution_count": 15,
   "id": "ff938969-f33c-432d-ba4a-2a26b9accce8",
   "metadata": {},
   "outputs": [],
   "source": [
    "percent_missing = round(100*(loan_data.isnull().sum())/len(loan_data), 2)"
   ]
  },
  {
   "cell_type": "code",
   "execution_count": 16,
   "id": "8cbefd37-455d-443a-9108-82f51eaef62e",
   "metadata": {},
   "outputs": [
    {
     "data": {
      "text/plain": [
       "credit_policy        0.0\n",
       "purpose              0.0\n",
       "int_rate             0.0\n",
       "installment          0.0\n",
       "log_annual_inc       0.0\n",
       "dti                  0.0\n",
       "fico                 0.0\n",
       "days_with_cr_line    0.0\n",
       "revol_bal            0.0\n",
       "revol_util           0.0\n",
       "inq_last_6mths       0.0\n",
       "delinq_2yrs          0.0\n",
       "pub_rec              0.0\n",
       "not_fully_paid       0.0\n",
       "dtype: float64"
      ]
     },
     "execution_count": 16,
     "metadata": {},
     "output_type": "execute_result"
    }
   ],
   "source": [
    "percent_missing"
   ]
  },
  {
   "cell_type": "code",
   "execution_count": 17,
   "id": "064039aa-72af-4f19-9897-05680ea29e6b",
   "metadata": {},
   "outputs": [
    {
     "name": "stdout",
     "output_type": "stream",
     "text": [
      "<class 'pandas.core.frame.DataFrame'>\n",
      "RangeIndex: 9578 entries, 0 to 9577\n",
      "Data columns (total 12 columns):\n",
      " #   Column             Non-Null Count  Dtype  \n",
      "---  ------             --------------  -----  \n",
      " 0   credit_policy      9578 non-null   int64  \n",
      " 1   int_rate           9578 non-null   float64\n",
      " 2   installment        9578 non-null   float64\n",
      " 3   log_annual_inc     9578 non-null   float64\n",
      " 4   dti                9578 non-null   float64\n",
      " 5   fico               9578 non-null   int64  \n",
      " 6   days_with_cr_line  9578 non-null   float64\n",
      " 7   revol_bal          9578 non-null   int64  \n",
      " 8   revol_util         9578 non-null   float64\n",
      " 9   inq_last_6mths     9578 non-null   int64  \n",
      " 10  delinq_2yrs        9578 non-null   int64  \n",
      " 11  pub_rec            9578 non-null   int64  \n",
      "dtypes: float64(6), int64(6)\n",
      "memory usage: 898.1 KB\n"
     ]
    }
   ],
   "source": [
    "cleaned_data = loan_data.drop(['purpose', 'not_fully_paid'], axis=1)\n",
    "cleaned_data.info()"
   ]
  },
  {
   "cell_type": "code",
   "execution_count": 18,
   "id": "f356835f-a339-4bf7-bc35-5c6574caf61b",
   "metadata": {},
   "outputs": [],
   "source": [
    "import seaborn as sb\n",
    "def show_boxplot(df):\n",
    "    plt.rcParams['figure.figsize'] = [14, 6]\n",
    "    sb.boxplot(data=df, orient='v')\n",
    "    plt.title(\"Outliers Distribution\", fontsize=16)\n",
    "    plt.ylabel(\"Range\", fontweight='bold')\n",
    "    plt.xlabel(\"Attributes\", fontweight='bold')"
   ]
  },
  {
   "cell_type": "code",
   "execution_count": 19,
   "id": "01ddcbd0-8ad0-4506-976b-b9f56417bcf4",
   "metadata": {},
   "outputs": [
    {
     "data": {
      "image/png": "[encoded data removed]",
      "text/plain": [
       "<Figure size 1400x600 with 1 Axes>"
      ]
     },
     "metadata": {},
     "output_type": "display_data"
    }
   ],
   "source": [
    "show_boxplot(cleaned_data)"
   ]
  },
  {
   "cell_type": "code",
   "execution_count": 20,
   "id": "a8dc831c-3ded-4f4a-970a-f0486d049afb",
   "metadata": {},
   "outputs": [],
   "source": [
    "def remove_outliers(data):\n",
    "    df = data.copy()\n",
    "    for col in list(df.columns):\n",
    "        Q1 = df[str(col)].quantile(0.25)\n",
    "        Q3 = df[str(col)].quantile(0.75)\n",
    "        IQR = Q3 - Q1\n",
    "        lower_bound = Q1 - 1.5*IQR\n",
    "        upper_bound = Q3 + 1.5*IQR\n",
    "        df = df[(df[str(col)] >= lower_bound) & (df[str(col)] <= upper_bound)]\n",
    "        return df"
   ]
  },
  {
   "cell_type": "code",
   "execution_count": 21,
   "id": "2b00e853-bc7c-45ef-b3c6-d22f2d5a6ed3",
   "metadata": {},
   "outputs": [
    {
     "data": {
      "text/plain": [
       "(7710, 12)"
      ]
     },
     "execution_count": 21,
     "metadata": {},
     "output_type": "execute_result"
    },
    {
     "data": {
      "image/png": "[encoded data removed]",
      "text/plain": [
       "<Figure size 1400x600 with 1 Axes>"
      ]
     },
     "metadata": {},
     "output_type": "display_data"
    }
   ],
   "source": [
    "without_outliers = remove_outliers(cleaned_data)\n",
    "show_boxplot(without_outliers)\n",
    "without_outliers.shape"
   ]
  },
  {
   "cell_type": "code",
   "execution_count": 22,
   "id": "a2cf4ef9-f1e6-482b-983a-d1be6db2da00",
   "metadata": {},
   "outputs": [
    {
     "data": {
      "text/plain": [
       "(7710, 12)"
      ]
     },
     "execution_count": 22,
     "metadata": {},
     "output_type": "execute_result"
    }
   ],
   "source": [
    "from sklearn.preprocessing import StandardScaler\n",
    "data_scaler = StandardScaler()\n",
    "scaled_data = data_scaler.fit_transform(without_outliers)\n",
    "scaled_data.shape\n",
    "#pruned_data = scaled_data[0:5000]"
   ]
  },
  {
   "cell_type": "code",
   "execution_count": 23,
   "id": "25f5ecc4-0487-44a0-9e40-6cdf41cf8442",
   "metadata": {},
   "outputs": [],
   "source": [
    "from scipy.cluster.hierarchy import linkage, dendrogram, cut_tree"
   ]
  },
  {
   "cell_type": "code",
   "execution_count": 24,
   "id": "80cf1e58-da9c-4972-bb94-00f14c39d493",
   "metadata": {},
   "outputs": [],
   "source": [
    "complete_clustering = linkage(scaled_data, method = \"complete\", metric=\"euclidean\")\n",
    "average_clustering = linkage(scaled_data, method = \"average\", metric=\"euclidean\")\n",
    "single_clustering = linkage(scaled_data, method = \"single\", metric=\"euclidean\")"
   ]
  },
  {
   "cell_type": "code",
   "execution_count": 25,
   "id": "a30fd770-bde9-47ba-acae-a96498f6fcb6",
   "metadata": {},
   "outputs": [
    {
     "data": {
      "image/png": "[encoded data removed]",
      "text/plain": [
       "<Figure size 1400x600 with 1 Axes>"
      ]
     },
     "metadata": {},
     "output_type": "display_data"
    }
   ],
   "source": [
    "dendrogram(average_clustering)\n",
    "plt.show()"
   ]
  },
  {
   "cell_type": "code",
   "execution_count": 26,
   "id": "7b05a2c0-72aa-4313-bc48-9fb98c8929d7",
   "metadata": {},
   "outputs": [
    {
     "data": {
      "text/html": [
       "<div>\n",
       "<style scoped>\n",
       "    .dataframe tbody tr th:only-of-type {\n",
       "        vertical-align: middle;\n",
       "    }\n",
       "\n",
       "    .dataframe tbody tr th {\n",
       "        vertical-align: top;\n",
       "    }\n",
       "\n",
       "    .dataframe thead th {\n",
       "        text-align: right;\n",
       "    }\n",
       "</style>\n",
       "<table border=\"1\" class=\"dataframe\">\n",
       "  <thead>\n",
       "    <tr style=\"text-align: right;\">\n",
       "      <th></th>\n",
       "      <th>credit_policy</th>\n",
       "      <th>int_rate</th>\n",
       "      <th>installment</th>\n",
       "      <th>log_annual_inc</th>\n",
       "      <th>dti</th>\n",
       "      <th>fico</th>\n",
       "      <th>days_with_cr_line</th>\n",
       "      <th>revol_bal</th>\n",
       "      <th>revol_util</th>\n",
       "      <th>inq_last_6mths</th>\n",
       "      <th>delinq_2yrs</th>\n",
       "      <th>pub_rec</th>\n",
       "      <th>cluster</th>\n",
       "    </tr>\n",
       "  </thead>\n",
       "  <tbody>\n",
       "    <tr>\n",
       "      <th>0</th>\n",
       "      <td>1</td>\n",
       "      <td>0.1189</td>\n",
       "      <td>829.10</td>\n",
       "      <td>11.350407</td>\n",
       "      <td>19.48</td>\n",
       "      <td>737</td>\n",
       "      <td>5639.958333</td>\n",
       "      <td>28854</td>\n",
       "      <td>52.1</td>\n",
       "      <td>0</td>\n",
       "      <td>0</td>\n",
       "      <td>0</td>\n",
       "      <td>0</td>\n",
       "    </tr>\n",
       "    <tr>\n",
       "      <th>1</th>\n",
       "      <td>1</td>\n",
       "      <td>0.1071</td>\n",
       "      <td>228.22</td>\n",
       "      <td>11.082143</td>\n",
       "      <td>14.29</td>\n",
       "      <td>707</td>\n",
       "      <td>2760.000000</td>\n",
       "      <td>33623</td>\n",
       "      <td>76.7</td>\n",
       "      <td>0</td>\n",
       "      <td>0</td>\n",
       "      <td>0</td>\n",
       "      <td>0</td>\n",
       "    </tr>\n",
       "    <tr>\n",
       "      <th>2</th>\n",
       "      <td>1</td>\n",
       "      <td>0.1357</td>\n",
       "      <td>366.86</td>\n",
       "      <td>10.373491</td>\n",
       "      <td>11.63</td>\n",
       "      <td>682</td>\n",
       "      <td>4710.000000</td>\n",
       "      <td>3511</td>\n",
       "      <td>25.6</td>\n",
       "      <td>1</td>\n",
       "      <td>0</td>\n",
       "      <td>0</td>\n",
       "      <td>0</td>\n",
       "    </tr>\n",
       "    <tr>\n",
       "      <th>3</th>\n",
       "      <td>1</td>\n",
       "      <td>0.1008</td>\n",
       "      <td>162.34</td>\n",
       "      <td>11.350407</td>\n",
       "      <td>8.10</td>\n",
       "      <td>712</td>\n",
       "      <td>2699.958333</td>\n",
       "      <td>33667</td>\n",
       "      <td>73.2</td>\n",
       "      <td>1</td>\n",
       "      <td>0</td>\n",
       "      <td>0</td>\n",
       "      <td>0</td>\n",
       "    </tr>\n",
       "    <tr>\n",
       "      <th>4</th>\n",
       "      <td>1</td>\n",
       "      <td>0.1426</td>\n",
       "      <td>102.92</td>\n",
       "      <td>11.299732</td>\n",
       "      <td>14.97</td>\n",
       "      <td>667</td>\n",
       "      <td>4066.000000</td>\n",
       "      <td>4740</td>\n",
       "      <td>39.5</td>\n",
       "      <td>0</td>\n",
       "      <td>1</td>\n",
       "      <td>0</td>\n",
       "      <td>0</td>\n",
       "    </tr>\n",
       "    <tr>\n",
       "      <th>...</th>\n",
       "      <td>...</td>\n",
       "      <td>...</td>\n",
       "      <td>...</td>\n",
       "      <td>...</td>\n",
       "      <td>...</td>\n",
       "      <td>...</td>\n",
       "      <td>...</td>\n",
       "      <td>...</td>\n",
       "      <td>...</td>\n",
       "      <td>...</td>\n",
       "      <td>...</td>\n",
       "      <td>...</td>\n",
       "      <td>...</td>\n",
       "    </tr>\n",
       "    <tr>\n",
       "      <th>7705</th>\n",
       "      <td>1</td>\n",
       "      <td>0.1189</td>\n",
       "      <td>663.28</td>\n",
       "      <td>11.012050</td>\n",
       "      <td>2.89</td>\n",
       "      <td>742</td>\n",
       "      <td>3660.000000</td>\n",
       "      <td>6863</td>\n",
       "      <td>46.7</td>\n",
       "      <td>4</td>\n",
       "      <td>0</td>\n",
       "      <td>0</td>\n",
       "      <td>0</td>\n",
       "    </tr>\n",
       "    <tr>\n",
       "      <th>7706</th>\n",
       "      <td>1</td>\n",
       "      <td>0.1739</td>\n",
       "      <td>716.95</td>\n",
       "      <td>11.034890</td>\n",
       "      <td>13.51</td>\n",
       "      <td>697</td>\n",
       "      <td>4350.000000</td>\n",
       "      <td>7574</td>\n",
       "      <td>35.6</td>\n",
       "      <td>3</td>\n",
       "      <td>1</td>\n",
       "      <td>0</td>\n",
       "      <td>0</td>\n",
       "    </tr>\n",
       "    <tr>\n",
       "      <th>7707</th>\n",
       "      <td>1</td>\n",
       "      <td>0.1114</td>\n",
       "      <td>393.65</td>\n",
       "      <td>11.225243</td>\n",
       "      <td>7.82</td>\n",
       "      <td>737</td>\n",
       "      <td>3179.958333</td>\n",
       "      <td>10320</td>\n",
       "      <td>8.9</td>\n",
       "      <td>1</td>\n",
       "      <td>0</td>\n",
       "      <td>0</td>\n",
       "      <td>0</td>\n",
       "    </tr>\n",
       "    <tr>\n",
       "      <th>7708</th>\n",
       "      <td>1</td>\n",
       "      <td>0.1379</td>\n",
       "      <td>851.89</td>\n",
       "      <td>11.238489</td>\n",
       "      <td>4.45</td>\n",
       "      <td>717</td>\n",
       "      <td>5249.958333</td>\n",
       "      <td>165</td>\n",
       "      <td>2.5</td>\n",
       "      <td>2</td>\n",
       "      <td>0</td>\n",
       "      <td>0</td>\n",
       "      <td>0</td>\n",
       "    </tr>\n",
       "    <tr>\n",
       "      <th>7709</th>\n",
       "      <td>1</td>\n",
       "      <td>0.1287</td>\n",
       "      <td>840.83</td>\n",
       "      <td>11.459525</td>\n",
       "      <td>0.13</td>\n",
       "      <td>757</td>\n",
       "      <td>2190.000000</td>\n",
       "      <td>14</td>\n",
       "      <td>0.2</td>\n",
       "      <td>2</td>\n",
       "      <td>0</td>\n",
       "      <td>0</td>\n",
       "      <td>0</td>\n",
       "    </tr>\n",
       "  </tbody>\n",
       "</table>\n",
       "<p>7710 rows × 13 columns</p>\n",
       "</div>"
      ],
      "text/plain": [
       "      credit_policy  int_rate  installment  log_annual_inc    dti  fico  \\\n",
       "0                 1    0.1189       829.10       11.350407  19.48   737   \n",
       "1                 1    0.1071       228.22       11.082143  14.29   707   \n",
       "2                 1    0.1357       366.86       10.373491  11.63   682   \n",
       "3                 1    0.1008       162.34       11.350407   8.10   712   \n",
       "4                 1    0.1426       102.92       11.299732  14.97   667   \n",
       "...             ...       ...          ...             ...    ...   ...   \n",
       "7705              1    0.1189       663.28       11.012050   2.89   742   \n",
       "7706              1    0.1739       716.95       11.034890  13.51   697   \n",
       "7707              1    0.1114       393.65       11.225243   7.82   737   \n",
       "7708              1    0.1379       851.89       11.238489   4.45   717   \n",
       "7709              1    0.1287       840.83       11.459525   0.13   757   \n",
       "\n",
       "      days_with_cr_line  revol_bal  revol_util  inq_last_6mths  delinq_2yrs  \\\n",
       "0           5639.958333      28854        52.1               0            0   \n",
       "1           2760.000000      33623        76.7               0            0   \n",
       "2           4710.000000       3511        25.6               1            0   \n",
       "3           2699.958333      33667        73.2               1            0   \n",
       "4           4066.000000       4740        39.5               0            1   \n",
       "...                 ...        ...         ...             ...          ...   \n",
       "7705        3660.000000       6863        46.7               4            0   \n",
       "7706        4350.000000       7574        35.6               3            1   \n",
       "7707        3179.958333      10320         8.9               1            0   \n",
       "7708        5249.958333        165         2.5               2            0   \n",
       "7709        2190.000000         14         0.2               2            0   \n",
       "\n",
       "      pub_rec  cluster  \n",
       "0           0        0  \n",
       "1           0        0  \n",
       "2           0        0  \n",
       "3           0        0  \n",
       "4           0        0  \n",
       "...       ...      ...  \n",
       "7705        0        0  \n",
       "7706        0        0  \n",
       "7707        0        0  \n",
       "7708        0        0  \n",
       "7709        0        0  \n",
       "\n",
       "[7710 rows x 13 columns]"
      ]
     },
     "execution_count": 26,
     "metadata": {},
     "output_type": "execute_result"
    }
   ],
   "source": [
    "cluster_labels = cut_tree(average_clustering, n_clusters=2).reshape(-1,)\n",
    "without_outliers[\"cluster\"] = cluster_labels\n",
    "without_outliers\n",
    "# pruned_data =pd.DataFrame(pruned_data)\n"
   ]
  },
  {
   "cell_type": "code",
   "execution_count": 27,
   "id": "25a77836-7c6d-400d-850c-5afa0c7d1d58",
   "metadata": {},
   "outputs": [
    {
     "data": {
      "text/plain": [
       "<Axes: xlabel='cluster', ylabel='fico'>"
      ]
     },
     "execution_count": 27,
     "metadata": {},
     "output_type": "execute_result"
    },
    {
     "data": {
      "image/png": "[encoded data removed]",
      "text/plain": [
       "<Figure size 1400x600 with 1 Axes>"
      ]
     },
     "metadata": {},
     "output_type": "display_data"
    }
   ],
   "source": [
    "sb.boxplot(x=\"cluster\", y=\"fico\", data=without_outliers)"
   ]
  },
  {
   "cell_type": "markdown",
   "id": "977891e1-e3bc-4ec6-9a9b-c5e0f1e89fa1",
   "metadata": {},
   "source": [
    "<b>k-means clustering </b>\n",
    "<ul>\n",
    "    <li>k is the number of clusters that you want</li>\n",
    "    <li> If you don't have any idea about how many clusters there are this is problematic</li>\n",
    "    <li> If you kow many clusters you want it is a good choice as it is much faster</li>\n",
    "</ul>"
   ]
  },
  {
   "cell_type": "markdown",
   "id": "5938148a-ce27-41ad-9b88-a75d235567cc",
   "metadata": {},
   "source": [
    "<b> k-means algorithm </b>\n",
    "<ul> \n",
    "    <li>randomly choose k samples as initial centroids </li>\n",
    "    <li> while True:</li>\n",
    "    <li> create k clusters by assigned example to the closest centroid</li>\n",
    "    <li> compute k new centroids by averaging the examples in each cluster</li>\n",
    "    <li> if centroids don't change</li>\n",
    "    <li> exit</li>\n",
    "</ul>\n",
    "    \n"
   ]
  },
  {
   "cell_type": "markdown",
   "id": "2e53b984-11bf-434a-b13e-fab3266ff62e",
   "metadata": {},
   "source": [
    "<ul>\n",
    "    <li>Complexity of one iteration</li>\n",
    "    <li>Compare each point with each centroid k*n</li>\n",
    "    <li> Typically it converges quite quickly</li>\n",
    "    <li> Most commonly used clustering algorithm as it is very fast</li>\n",
    "</ul>"
   ]
  },
  {
   "cell_type": "markdown",
   "id": "9557fc35-ab92-457f-84b8-9da147ab0c45",
   "metadata": {},
   "source": [
    "<b> Choosing k </b>\n",
    "<ul>\n",
    "    <li> Choosing the wrong k can be problematic</li>\n",
    "    <li> If k is non-sensical then your clustering will be non-sensical</li>\n",
    "    <li> How do we choose k?</li>\n",
    "    <li> Results can depend on the initial centroids</li>\n",
    "    <li> k-means is non-deterministic</li>\n",
    "    <li> If initial centroids are poorly chosen can take longer to converge or get a completely different answer</li>\n",
    "</ul>"
   ]
  },
  {
   "cell_type": "markdown",
   "id": "8cd07f62-cd6b-4898-a252-1913c5ea0a2c",
   "metadata": {},
   "source": [
    "<b> Choosing k </b>\n",
    "<ul>\n",
    "    <li>Choose k using a priori knowledge of the application</li>\n",
    "    <li>For example only 5 different types of bacteria </li>\n",
    "    <li> Two types of people in the world - DkiT graduates and not</li>\n",
    "    <li> Try different values of k and evaluate the quality of the results</li>\n",
    "    <li> Run hierarchical clustering on a subset of the data</li>\n",
    "    <li> Try and select good initial centroids distributed over the space</li>\n",
    "    <li> Try multiple sets of randomly chosen centroid and select the best result</li>\n",
    "</ul>"
   ]
  },
  {
   "cell_type": "markdown",
   "id": "fdb644d0-408e-4415-a779-8a247ac51c1e",
   "metadata": {},
   "source": [
    "<b> Mitigating dependence on initial centroids </b>\n",
    "<ul>\n",
    "    <li>best = kmeans(points)</li>\n",
    "    <li> for t in range(numTrials):</li>\n",
    "    <li> C = kmeans(points)</li>\n",
    "    <li> if dissimilarity(C) < dissimilarity(best) </li>\n",
    "    <li> best = C</li>\n",
    "    <li> return best</li>\n",
    "</ul>"
   ]
  },
  {
   "cell_type": "markdown",
   "id": "423e9e16-9b50-4aae-8d2b-3a12d9b24441",
   "metadata": {},
   "source": [
    "<ul>\n",
    "    <li> Think of a centroid as the \"centre of gravity\" of a cluster</li>\n",
    "</ul>"
   ]
  },
  {
   "cell_type": "markdown",
   "id": "7c8b5a64-9506-4a3a-87cc-8ab7e97c680f",
   "metadata": {},
   "source": [
    "<b> Elblow method to find k </b>\n",
    "<ul> \n",
    "    <li>$SSE_1 = \\sum_{i=0}^ndist(x_i-c_1)^2$</li>\n",
    "    <li> $SSE = SSE_1 + \\dots + SSE_n$</li>\n",
    "</ul>"
   ]
  },
  {
   "cell_type": "code",
   "execution_count": 28,
   "id": "7a0954b6-ef6e-4d7e-9ae4-22886a865c60",
   "metadata": {},
   "outputs": [],
   "source": [
    "from sklearn.cluster import KMeans\n",
    "import pandas as pd\n",
    "from sklearn.preprocessing import MinMaxScaler\n",
    "from matplotlib import pyplot as plt"
   ]
  },
  {
   "cell_type": "code",
   "execution_count": 29,
   "id": "a90219cc-ed10-43e9-905c-0f8c0c5fb168",
   "metadata": {},
   "outputs": [],
   "source": [
    "df = pd.read_csv(\"income.csv\")"
   ]
  },
  {
   "cell_type": "code",
   "execution_count": 30,
   "id": "16b01c03-1672-4ba4-acce-4041a9e8a69a",
   "metadata": {},
   "outputs": [
    {
     "data": {
      "text/html": [
       "<div>\n",
       "<style scoped>\n",
       "    .dataframe tbody tr th:only-of-type {\n",
       "        vertical-align: middle;\n",
       "    }\n",
       "\n",
       "    .dataframe tbody tr th {\n",
       "        vertical-align: top;\n",
       "    }\n",
       "\n",
       "    .dataframe thead th {\n",
       "        text-align: right;\n",
       "    }\n",
       "</style>\n",
       "<table border=\"1\" class=\"dataframe\">\n",
       "  <thead>\n",
       "    <tr style=\"text-align: right;\">\n",
       "      <th></th>\n",
       "      <th>Name</th>\n",
       "      <th>Age</th>\n",
       "      <th>Income</th>\n",
       "    </tr>\n",
       "  </thead>\n",
       "  <tbody>\n",
       "    <tr>\n",
       "      <th>0</th>\n",
       "      <td>Rob</td>\n",
       "      <td>27</td>\n",
       "      <td>70000</td>\n",
       "    </tr>\n",
       "    <tr>\n",
       "      <th>1</th>\n",
       "      <td>Michael</td>\n",
       "      <td>29</td>\n",
       "      <td>90000</td>\n",
       "    </tr>\n",
       "    <tr>\n",
       "      <th>2</th>\n",
       "      <td>Mohen</td>\n",
       "      <td>29</td>\n",
       "      <td>61000</td>\n",
       "    </tr>\n",
       "    <tr>\n",
       "      <th>3</th>\n",
       "      <td>Ismail</td>\n",
       "      <td>28</td>\n",
       "      <td>60000</td>\n",
       "    </tr>\n",
       "    <tr>\n",
       "      <th>4</th>\n",
       "      <td>Kory</td>\n",
       "      <td>42</td>\n",
       "      <td>150000</td>\n",
       "    </tr>\n",
       "  </tbody>\n",
       "</table>\n",
       "</div>"
      ],
      "text/plain": [
       "      Name  Age  Income\n",
       "0      Rob   27   70000\n",
       "1  Michael   29   90000\n",
       "2    Mohen   29   61000\n",
       "3   Ismail   28   60000\n",
       "4     Kory   42  150000"
      ]
     },
     "execution_count": 30,
     "metadata": {},
     "output_type": "execute_result"
    }
   ],
   "source": [
    "df.head()"
   ]
  },
  {
   "cell_type": "code",
   "execution_count": 31,
   "id": "508e7c22-6fca-4f4a-9873-4738f09de988",
   "metadata": {},
   "outputs": [
    {
     "data": {
      "text/plain": [
       "<matplotlib.collections.PathCollection at 0x1ac03f64250>"
      ]
     },
     "execution_count": 31,
     "metadata": {},
     "output_type": "execute_result"
    },
    {
     "data": {
      "image/png": "[encoded data removed]",
      "text/plain": [
       "<Figure size 1400x600 with 1 Axes>"
      ]
     },
     "metadata": {},
     "output_type": "display_data"
    }
   ],
   "source": [
    "plt.scatter(df['Age'], df['Income'])"
   ]
  },
  {
   "cell_type": "code",
   "execution_count": 32,
   "id": "a91899ba-aca2-44d1-bd81-e9a0e4eaefd5",
   "metadata": {},
   "outputs": [],
   "source": [
    "km = KMeans(n_clusters=3, n_init='auto')"
   ]
  },
  {
   "cell_type": "code",
   "execution_count": 33,
   "id": "36f27789-22de-401c-8e5d-44bcd845f38a",
   "metadata": {},
   "outputs": [
    {
     "data": {
      "text/html": [
       "<style>#sk-container-id-1 {color: black;background-color: white;}#sk-container-id-1 pre{padding: 0;}#sk-container-id-1 div.sk-toggleable {background-color: white;}#sk-container-id-1 label.sk-toggleable__label {cursor: pointer;display: block;width: 100%;margin-bottom: 0;padding: 0.3em;box-sizing: border-box;text-align: center;}#sk-container-id-1 label.sk-toggleable__label-arrow:before {content: \"▸\";float: left;margin-right: 0.25em;color: #696969;}#sk-container-id-1 label.sk-toggleable__label-arrow:hover:before {color: black;}#sk-container-id-1 div.sk-estimator:hover label.sk-toggleable__label-arrow:before {color: black;}#sk-container-id-1 div.sk-toggleable__content {max-height: 0;max-width: 0;overflow: hidden;text-align: left;background-color: #f0f8ff;}#sk-container-id-1 div.sk-toggleable__content pre {margin: 0.2em;color: black;border-radius: 0.25em;background-color: #f0f8ff;}#sk-container-id-1 input.sk-toggleable__control:checked~div.sk-toggleable__content {max-height: 200px;max-width: 100%;overflow: auto;}#sk-container-id-1 input.sk-toggleable__control:checked~label.sk-toggleable__label-arrow:before {content: \"▾\";}#sk-container-id-1 div.sk-estimator input.sk-toggleable__control:checked~label.sk-toggleable__label {background-color: #d4ebff;}#sk-container-id-1 div.sk-label input.sk-toggleable__control:checked~label.sk-toggleable__label {background-color: #d4ebff;}#sk-container-id-1 input.sk-hidden--visually {border: 0;clip: rect(1px 1px 1px 1px);clip: rect(1px, 1px, 1px, 1px);height: 1px;margin: -1px;overflow: hidden;padding: 0;position: absolute;width: 1px;}#sk-container-id-1 div.sk-estimator {font-family: monospace;background-color: #f0f8ff;border: 1px dotted black;border-radius: 0.25em;box-sizing: border-box;margin-bottom: 0.5em;}#sk-container-id-1 div.sk-estimator:hover {background-color: #d4ebff;}#sk-container-id-1 div.sk-parallel-item::after {content: \"\";width: 100%;border-bottom: 1px solid gray;flex-grow: 1;}#sk-container-id-1 div.sk-label:hover label.sk-toggleable__label {background-color: #d4ebff;}#sk-container-id-1 div.sk-serial::before {content: \"\";position: absolute;border-left: 1px solid gray;box-sizing: border-box;top: 0;bottom: 0;left: 50%;z-index: 0;}#sk-container-id-1 div.sk-serial {display: flex;flex-direction: column;align-items: center;background-color: white;padding-right: 0.2em;padding-left: 0.2em;position: relative;}#sk-container-id-1 div.sk-item {position: relative;z-index: 1;}#sk-container-id-1 div.sk-parallel {display: flex;align-items: stretch;justify-content: center;background-color: white;position: relative;}#sk-container-id-1 div.sk-item::before, #sk-container-id-1 div.sk-parallel-item::before {content: \"\";position: absolute;border-left: 1px solid gray;box-sizing: border-box;top: 0;bottom: 0;left: 50%;z-index: -1;}#sk-container-id-1 div.sk-parallel-item {display: flex;flex-direction: column;z-index: 1;position: relative;background-color: white;}#sk-container-id-1 div.sk-parallel-item:first-child::after {align-self: flex-end;width: 50%;}#sk-container-id-1 div.sk-parallel-item:last-child::after {align-self: flex-start;width: 50%;}#sk-container-id-1 div.sk-parallel-item:only-child::after {width: 0;}#sk-container-id-1 div.sk-dashed-wrapped {border: 1px dashed gray;margin: 0 0.4em 0.5em 0.4em;box-sizing: border-box;padding-bottom: 0.4em;background-color: white;}#sk-container-id-1 div.sk-label label {font-family: monospace;font-weight: bold;display: inline-block;line-height: 1.2em;}#sk-container-id-1 div.sk-label-container {text-align: center;}#sk-container-id-1 div.sk-container {/* jupyter's `normalize.less` sets `[hidden] { display: none; }` but bootstrap.min.css set `[hidden] { display: none !important; }` so we also need the `!important` here to be able to override the default hidden behavior on the sphinx rendered scikit-learn.org. See: https://github.com/scikit-learn/scikit-learn/issues/21755 */display: inline-block !important;position: relative;}#sk-container-id-1 div.sk-text-repr-fallback {display: none;}</style><div id=\"sk-container-id-1\" class=\"sk-top-container\"><div class=\"sk-text-repr-fallback\"><pre>KMeans(n_clusters=3, n_init=&#x27;auto&#x27;)</pre><b>In a Jupyter environment, please rerun this cell to show the HTML representation or trust the notebook. <br />On GitHub, the HTML representation is unable to render, please try loading this page with nbviewer.org.</b></div><div class=\"sk-container\" hidden><div class=\"sk-item\"><div class=\"sk-estimator sk-toggleable\"><input class=\"sk-toggleable__control sk-hidden--visually\" id=\"sk-estimator-id-1\" type=\"checkbox\" checked><label for=\"sk-estimator-id-1\" class=\"sk-toggleable__label sk-toggleable__label-arrow\">KMeans</label><div class=\"sk-toggleable__content\"><pre>KMeans(n_clusters=3, n_init=&#x27;auto&#x27;)</pre></div></div></div></div></div>"
      ],
      "text/plain": [
       "KMeans(n_clusters=3, n_init='auto')"
      ]
     },
     "execution_count": 33,
     "metadata": {},
     "output_type": "execute_result"
    }
   ],
   "source": [
    "km"
   ]
  },
  {
   "cell_type": "code",
   "execution_count": 34,
   "id": "9022d947-4522-4211-ba9b-81de0315ec7c",
   "metadata": {},
   "outputs": [
    {
     "data": {
      "text/plain": [
       "array([2, 2, 0, 0, 1, 1, 1, 1, 1, 1, 1, 0, 0, 0, 0, 0, 0, 0, 0, 2, 2, 0])"
      ]
     },
     "execution_count": 34,
     "metadata": {},
     "output_type": "execute_result"
    }
   ],
   "source": [
    "y_predicted = km.fit_predict(df[['Age', 'Income']])\n",
    "y_predicted"
   ]
  },
  {
   "cell_type": "code",
   "execution_count": 35,
   "id": "be9925d7-dd23-424a-8618-73fe23e14d01",
   "metadata": {},
   "outputs": [
    {
     "data": {
      "text/html": [
       "<div>\n",
       "<style scoped>\n",
       "    .dataframe tbody tr th:only-of-type {\n",
       "        vertical-align: middle;\n",
       "    }\n",
       "\n",
       "    .dataframe tbody tr th {\n",
       "        vertical-align: top;\n",
       "    }\n",
       "\n",
       "    .dataframe thead th {\n",
       "        text-align: right;\n",
       "    }\n",
       "</style>\n",
       "<table border=\"1\" class=\"dataframe\">\n",
       "  <thead>\n",
       "    <tr style=\"text-align: right;\">\n",
       "      <th></th>\n",
       "      <th>Name</th>\n",
       "      <th>Age</th>\n",
       "      <th>Income</th>\n",
       "      <th>cluster</th>\n",
       "    </tr>\n",
       "  </thead>\n",
       "  <tbody>\n",
       "    <tr>\n",
       "      <th>0</th>\n",
       "      <td>Rob</td>\n",
       "      <td>27</td>\n",
       "      <td>70000</td>\n",
       "      <td>2</td>\n",
       "    </tr>\n",
       "    <tr>\n",
       "      <th>1</th>\n",
       "      <td>Michael</td>\n",
       "      <td>29</td>\n",
       "      <td>90000</td>\n",
       "      <td>2</td>\n",
       "    </tr>\n",
       "    <tr>\n",
       "      <th>2</th>\n",
       "      <td>Mohen</td>\n",
       "      <td>29</td>\n",
       "      <td>61000</td>\n",
       "      <td>0</td>\n",
       "    </tr>\n",
       "    <tr>\n",
       "      <th>3</th>\n",
       "      <td>Ismail</td>\n",
       "      <td>28</td>\n",
       "      <td>60000</td>\n",
       "      <td>0</td>\n",
       "    </tr>\n",
       "    <tr>\n",
       "      <th>4</th>\n",
       "      <td>Kory</td>\n",
       "      <td>42</td>\n",
       "      <td>150000</td>\n",
       "      <td>1</td>\n",
       "    </tr>\n",
       "  </tbody>\n",
       "</table>\n",
       "</div>"
      ],
      "text/plain": [
       "      Name  Age  Income  cluster\n",
       "0      Rob   27   70000        2\n",
       "1  Michael   29   90000        2\n",
       "2    Mohen   29   61000        0\n",
       "3   Ismail   28   60000        0\n",
       "4     Kory   42  150000        1"
      ]
     },
     "execution_count": 35,
     "metadata": {},
     "output_type": "execute_result"
    }
   ],
   "source": [
    "df['cluster'] = y_predicted\n",
    "df.head()"
   ]
  },
  {
   "cell_type": "code",
   "execution_count": 36,
   "id": "5e95395f-f5a8-4ed8-9a79-e6a2e61fc4f7",
   "metadata": {},
   "outputs": [
    {
     "data": {
      "text/plain": [
       "<matplotlib.collections.PathCollection at 0x1ac08ccd010>"
      ]
     },
     "execution_count": 36,
     "metadata": {},
     "output_type": "execute_result"
    },
    {
     "data": {
      "image/png": "[encoded data removed]",
      "text/plain": [
       "<Figure size 1400x600 with 1 Axes>"
      ]
     },
     "metadata": {},
     "output_type": "display_data"
    }
   ],
   "source": [
    "df1 = df[df.cluster ==0]\n",
    "df2 = df[df.cluster ==1]\n",
    "df3 = df[df.cluster ==2]\n",
    "plt.scatter(df1.Age, df1['Income'], color='green')\n",
    "plt.scatter(df2.Age, df2['Income'], color='red')\n",
    "plt.scatter(df3.Age, df3['Income'], color='black')\n"
   ]
  },
  {
   "cell_type": "markdown",
   "id": "558f684f-01b1-4968-9b7f-8400108050bd",
   "metadata": {},
   "source": [
    "<ul>\n",
    "    <li> Problematic as features are not scaled</li>\n",
    "    <li> Income 40,000 -> 165,000</li>\n",
    "    <li> Age 25 - 45</li>\n",
    "    <li> Income will completely dominate unless scaled. If you don't scale the data you might as well forget about age as the scale for income is 1000 times bigger</li>\n",
    "</ul>"
   ]
  },
  {
   "cell_type": "code",
   "execution_count": 38,
   "id": "5ddaefac-8644-40f9-8c34-55ab68863de6",
   "metadata": {},
   "outputs": [
    {
     "name": "stderr",
     "output_type": "stream",
     "text": [
      "C:\\Users\\johnl\\anaconda3\\Lib\\site-packages\\sklearn\\base.py:439: UserWarning: X does not have valid feature names, but MinMaxScaler was fitted with feature names\n",
      "  warnings.warn(\n"
     ]
    }
   ],
   "source": [
    "scaler = MinMaxScaler()\n",
    "scaler.fit(df[['Income']])\n",
    "df['Income'] = scaler.transform(df['Income'].values.reshape(-1, 1))"
   ]
  },
  {
   "cell_type": "code",
   "execution_count": 39,
   "id": "2451bf1c-1879-44fe-8fcf-6be950cfce18",
   "metadata": {},
   "outputs": [
    {
     "data": {
      "text/html": [
       "<div>\n",
       "<style scoped>\n",
       "    .dataframe tbody tr th:only-of-type {\n",
       "        vertical-align: middle;\n",
       "    }\n",
       "\n",
       "    .dataframe tbody tr th {\n",
       "        vertical-align: top;\n",
       "    }\n",
       "\n",
       "    .dataframe thead th {\n",
       "        text-align: right;\n",
       "    }\n",
       "</style>\n",
       "<table border=\"1\" class=\"dataframe\">\n",
       "  <thead>\n",
       "    <tr style=\"text-align: right;\">\n",
       "      <th></th>\n",
       "      <th>Name</th>\n",
       "      <th>Age</th>\n",
       "      <th>Income</th>\n",
       "      <th>cluster</th>\n",
       "    </tr>\n",
       "  </thead>\n",
       "  <tbody>\n",
       "    <tr>\n",
       "      <th>0</th>\n",
       "      <td>Rob</td>\n",
       "      <td>27</td>\n",
       "      <td>0.213675</td>\n",
       "      <td>2</td>\n",
       "    </tr>\n",
       "    <tr>\n",
       "      <th>1</th>\n",
       "      <td>Michael</td>\n",
       "      <td>29</td>\n",
       "      <td>0.384615</td>\n",
       "      <td>2</td>\n",
       "    </tr>\n",
       "    <tr>\n",
       "      <th>2</th>\n",
       "      <td>Mohen</td>\n",
       "      <td>29</td>\n",
       "      <td>0.136752</td>\n",
       "      <td>0</td>\n",
       "    </tr>\n",
       "    <tr>\n",
       "      <th>3</th>\n",
       "      <td>Ismail</td>\n",
       "      <td>28</td>\n",
       "      <td>0.128205</td>\n",
       "      <td>0</td>\n",
       "    </tr>\n",
       "    <tr>\n",
       "      <th>4</th>\n",
       "      <td>Kory</td>\n",
       "      <td>42</td>\n",
       "      <td>0.897436</td>\n",
       "      <td>1</td>\n",
       "    </tr>\n",
       "    <tr>\n",
       "      <th>5</th>\n",
       "      <td>Guatam</td>\n",
       "      <td>39</td>\n",
       "      <td>0.940171</td>\n",
       "      <td>1</td>\n",
       "    </tr>\n",
       "    <tr>\n",
       "      <th>6</th>\n",
       "      <td>David</td>\n",
       "      <td>41</td>\n",
       "      <td>0.982906</td>\n",
       "      <td>1</td>\n",
       "    </tr>\n",
       "    <tr>\n",
       "      <th>7</th>\n",
       "      <td>Andrea</td>\n",
       "      <td>38</td>\n",
       "      <td>1.000000</td>\n",
       "      <td>1</td>\n",
       "    </tr>\n",
       "    <tr>\n",
       "      <th>8</th>\n",
       "      <td>Brad</td>\n",
       "      <td>36</td>\n",
       "      <td>0.948718</td>\n",
       "      <td>1</td>\n",
       "    </tr>\n",
       "    <tr>\n",
       "      <th>9</th>\n",
       "      <td>Angelina</td>\n",
       "      <td>35</td>\n",
       "      <td>0.726496</td>\n",
       "      <td>1</td>\n",
       "    </tr>\n",
       "    <tr>\n",
       "      <th>10</th>\n",
       "      <td>Ronald</td>\n",
       "      <td>37</td>\n",
       "      <td>0.786325</td>\n",
       "      <td>1</td>\n",
       "    </tr>\n",
       "    <tr>\n",
       "      <th>11</th>\n",
       "      <td>Tom</td>\n",
       "      <td>26</td>\n",
       "      <td>0.000000</td>\n",
       "      <td>0</td>\n",
       "    </tr>\n",
       "    <tr>\n",
       "      <th>12</th>\n",
       "      <td>Arnold</td>\n",
       "      <td>27</td>\n",
       "      <td>0.025641</td>\n",
       "      <td>0</td>\n",
       "    </tr>\n",
       "    <tr>\n",
       "      <th>13</th>\n",
       "      <td>Jared</td>\n",
       "      <td>28</td>\n",
       "      <td>0.051282</td>\n",
       "      <td>0</td>\n",
       "    </tr>\n",
       "    <tr>\n",
       "      <th>14</th>\n",
       "      <td>Stark</td>\n",
       "      <td>29</td>\n",
       "      <td>0.038462</td>\n",
       "      <td>0</td>\n",
       "    </tr>\n",
       "    <tr>\n",
       "      <th>15</th>\n",
       "      <td>Ranbir</td>\n",
       "      <td>32</td>\n",
       "      <td>0.068376</td>\n",
       "      <td>0</td>\n",
       "    </tr>\n",
       "    <tr>\n",
       "      <th>16</th>\n",
       "      <td>Dipika</td>\n",
       "      <td>40</td>\n",
       "      <td>0.170940</td>\n",
       "      <td>0</td>\n",
       "    </tr>\n",
       "    <tr>\n",
       "      <th>17</th>\n",
       "      <td>Priyanka</td>\n",
       "      <td>41</td>\n",
       "      <td>0.153846</td>\n",
       "      <td>0</td>\n",
       "    </tr>\n",
       "    <tr>\n",
       "      <th>18</th>\n",
       "      <td>Nick</td>\n",
       "      <td>43</td>\n",
       "      <td>0.162393</td>\n",
       "      <td>0</td>\n",
       "    </tr>\n",
       "    <tr>\n",
       "      <th>19</th>\n",
       "      <td>Alia</td>\n",
       "      <td>39</td>\n",
       "      <td>0.299145</td>\n",
       "      <td>2</td>\n",
       "    </tr>\n",
       "    <tr>\n",
       "      <th>20</th>\n",
       "      <td>Sid</td>\n",
       "      <td>41</td>\n",
       "      <td>0.316239</td>\n",
       "      <td>2</td>\n",
       "    </tr>\n",
       "    <tr>\n",
       "      <th>21</th>\n",
       "      <td>Abdul</td>\n",
       "      <td>39</td>\n",
       "      <td>0.111111</td>\n",
       "      <td>0</td>\n",
       "    </tr>\n",
       "  </tbody>\n",
       "</table>\n",
       "</div>"
      ],
      "text/plain": [
       "        Name  Age    Income  cluster\n",
       "0        Rob   27  0.213675        2\n",
       "1    Michael   29  0.384615        2\n",
       "2      Mohen   29  0.136752        0\n",
       "3     Ismail   28  0.128205        0\n",
       "4       Kory   42  0.897436        1\n",
       "5     Guatam   39  0.940171        1\n",
       "6      David   41  0.982906        1\n",
       "7     Andrea   38  1.000000        1\n",
       "8       Brad   36  0.948718        1\n",
       "9   Angelina   35  0.726496        1\n",
       "10    Ronald   37  0.786325        1\n",
       "11       Tom   26  0.000000        0\n",
       "12    Arnold   27  0.025641        0\n",
       "13     Jared   28  0.051282        0\n",
       "14     Stark   29  0.038462        0\n",
       "15    Ranbir   32  0.068376        0\n",
       "16    Dipika   40  0.170940        0\n",
       "17  Priyanka   41  0.153846        0\n",
       "18      Nick   43  0.162393        0\n",
       "19      Alia   39  0.299145        2\n",
       "20       Sid   41  0.316239        2\n",
       "21     Abdul   39  0.111111        0"
      ]
     },
     "execution_count": 39,
     "metadata": {},
     "output_type": "execute_result"
    }
   ],
   "source": [
    "df\n"
   ]
  },
  {
   "cell_type": "code",
   "execution_count": 44,
   "id": "78d1717c-a400-4d5e-88aa-7dc3d798c192",
   "metadata": {},
   "outputs": [
    {
     "name": "stderr",
     "output_type": "stream",
     "text": [
      "C:\\Users\\johnl\\anaconda3\\Lib\\site-packages\\sklearn\\base.py:439: UserWarning: X does not have valid feature names, but MinMaxScaler was fitted with feature names\n",
      "  warnings.warn(\n"
     ]
    }
   ],
   "source": [
    "scaler.fit(df[['Age']])\n",
    "df.Age = scaler.transform(df['Age'].values.reshape(-1, 1))"
   ]
  },
  {
   "cell_type": "code",
   "execution_count": 45,
   "id": "7e58cac1-9612-4e4c-b51b-ce8ae6fd457d",
   "metadata": {},
   "outputs": [
    {
     "data": {
      "text/html": [
       "<div>\n",
       "<style scoped>\n",
       "    .dataframe tbody tr th:only-of-type {\n",
       "        vertical-align: middle;\n",
       "    }\n",
       "\n",
       "    .dataframe tbody tr th {\n",
       "        vertical-align: top;\n",
       "    }\n",
       "\n",
       "    .dataframe thead th {\n",
       "        text-align: right;\n",
       "    }\n",
       "</style>\n",
       "<table border=\"1\" class=\"dataframe\">\n",
       "  <thead>\n",
       "    <tr style=\"text-align: right;\">\n",
       "      <th></th>\n",
       "      <th>Name</th>\n",
       "      <th>Age</th>\n",
       "      <th>Income</th>\n",
       "      <th>cluster</th>\n",
       "    </tr>\n",
       "  </thead>\n",
       "  <tbody>\n",
       "    <tr>\n",
       "      <th>0</th>\n",
       "      <td>Rob</td>\n",
       "      <td>0.058824</td>\n",
       "      <td>0.213675</td>\n",
       "      <td>2</td>\n",
       "    </tr>\n",
       "    <tr>\n",
       "      <th>1</th>\n",
       "      <td>Michael</td>\n",
       "      <td>0.176471</td>\n",
       "      <td>0.384615</td>\n",
       "      <td>2</td>\n",
       "    </tr>\n",
       "    <tr>\n",
       "      <th>2</th>\n",
       "      <td>Mohen</td>\n",
       "      <td>0.176471</td>\n",
       "      <td>0.136752</td>\n",
       "      <td>0</td>\n",
       "    </tr>\n",
       "    <tr>\n",
       "      <th>3</th>\n",
       "      <td>Ismail</td>\n",
       "      <td>0.117647</td>\n",
       "      <td>0.128205</td>\n",
       "      <td>0</td>\n",
       "    </tr>\n",
       "    <tr>\n",
       "      <th>4</th>\n",
       "      <td>Kory</td>\n",
       "      <td>0.941176</td>\n",
       "      <td>0.897436</td>\n",
       "      <td>1</td>\n",
       "    </tr>\n",
       "    <tr>\n",
       "      <th>5</th>\n",
       "      <td>Guatam</td>\n",
       "      <td>0.764706</td>\n",
       "      <td>0.940171</td>\n",
       "      <td>1</td>\n",
       "    </tr>\n",
       "    <tr>\n",
       "      <th>6</th>\n",
       "      <td>David</td>\n",
       "      <td>0.882353</td>\n",
       "      <td>0.982906</td>\n",
       "      <td>1</td>\n",
       "    </tr>\n",
       "    <tr>\n",
       "      <th>7</th>\n",
       "      <td>Andrea</td>\n",
       "      <td>0.705882</td>\n",
       "      <td>1.000000</td>\n",
       "      <td>1</td>\n",
       "    </tr>\n",
       "    <tr>\n",
       "      <th>8</th>\n",
       "      <td>Brad</td>\n",
       "      <td>0.588235</td>\n",
       "      <td>0.948718</td>\n",
       "      <td>1</td>\n",
       "    </tr>\n",
       "    <tr>\n",
       "      <th>9</th>\n",
       "      <td>Angelina</td>\n",
       "      <td>0.529412</td>\n",
       "      <td>0.726496</td>\n",
       "      <td>1</td>\n",
       "    </tr>\n",
       "    <tr>\n",
       "      <th>10</th>\n",
       "      <td>Ronald</td>\n",
       "      <td>0.647059</td>\n",
       "      <td>0.786325</td>\n",
       "      <td>1</td>\n",
       "    </tr>\n",
       "    <tr>\n",
       "      <th>11</th>\n",
       "      <td>Tom</td>\n",
       "      <td>0.000000</td>\n",
       "      <td>0.000000</td>\n",
       "      <td>0</td>\n",
       "    </tr>\n",
       "    <tr>\n",
       "      <th>12</th>\n",
       "      <td>Arnold</td>\n",
       "      <td>0.058824</td>\n",
       "      <td>0.025641</td>\n",
       "      <td>0</td>\n",
       "    </tr>\n",
       "    <tr>\n",
       "      <th>13</th>\n",
       "      <td>Jared</td>\n",
       "      <td>0.117647</td>\n",
       "      <td>0.051282</td>\n",
       "      <td>0</td>\n",
       "    </tr>\n",
       "    <tr>\n",
       "      <th>14</th>\n",
       "      <td>Stark</td>\n",
       "      <td>0.176471</td>\n",
       "      <td>0.038462</td>\n",
       "      <td>0</td>\n",
       "    </tr>\n",
       "    <tr>\n",
       "      <th>15</th>\n",
       "      <td>Ranbir</td>\n",
       "      <td>0.352941</td>\n",
       "      <td>0.068376</td>\n",
       "      <td>0</td>\n",
       "    </tr>\n",
       "    <tr>\n",
       "      <th>16</th>\n",
       "      <td>Dipika</td>\n",
       "      <td>0.823529</td>\n",
       "      <td>0.170940</td>\n",
       "      <td>0</td>\n",
       "    </tr>\n",
       "    <tr>\n",
       "      <th>17</th>\n",
       "      <td>Priyanka</td>\n",
       "      <td>0.882353</td>\n",
       "      <td>0.153846</td>\n",
       "      <td>0</td>\n",
       "    </tr>\n",
       "    <tr>\n",
       "      <th>18</th>\n",
       "      <td>Nick</td>\n",
       "      <td>1.000000</td>\n",
       "      <td>0.162393</td>\n",
       "      <td>0</td>\n",
       "    </tr>\n",
       "    <tr>\n",
       "      <th>19</th>\n",
       "      <td>Alia</td>\n",
       "      <td>0.764706</td>\n",
       "      <td>0.299145</td>\n",
       "      <td>2</td>\n",
       "    </tr>\n",
       "    <tr>\n",
       "      <th>20</th>\n",
       "      <td>Sid</td>\n",
       "      <td>0.882353</td>\n",
       "      <td>0.316239</td>\n",
       "      <td>2</td>\n",
       "    </tr>\n",
       "    <tr>\n",
       "      <th>21</th>\n",
       "      <td>Abdul</td>\n",
       "      <td>0.764706</td>\n",
       "      <td>0.111111</td>\n",
       "      <td>0</td>\n",
       "    </tr>\n",
       "  </tbody>\n",
       "</table>\n",
       "</div>"
      ],
      "text/plain": [
       "        Name       Age    Income  cluster\n",
       "0        Rob  0.058824  0.213675        2\n",
       "1    Michael  0.176471  0.384615        2\n",
       "2      Mohen  0.176471  0.136752        0\n",
       "3     Ismail  0.117647  0.128205        0\n",
       "4       Kory  0.941176  0.897436        1\n",
       "5     Guatam  0.764706  0.940171        1\n",
       "6      David  0.882353  0.982906        1\n",
       "7     Andrea  0.705882  1.000000        1\n",
       "8       Brad  0.588235  0.948718        1\n",
       "9   Angelina  0.529412  0.726496        1\n",
       "10    Ronald  0.647059  0.786325        1\n",
       "11       Tom  0.000000  0.000000        0\n",
       "12    Arnold  0.058824  0.025641        0\n",
       "13     Jared  0.117647  0.051282        0\n",
       "14     Stark  0.176471  0.038462        0\n",
       "15    Ranbir  0.352941  0.068376        0\n",
       "16    Dipika  0.823529  0.170940        0\n",
       "17  Priyanka  0.882353  0.153846        0\n",
       "18      Nick  1.000000  0.162393        0\n",
       "19      Alia  0.764706  0.299145        2\n",
       "20       Sid  0.882353  0.316239        2\n",
       "21     Abdul  0.764706  0.111111        0"
      ]
     },
     "execution_count": 45,
     "metadata": {},
     "output_type": "execute_result"
    }
   ],
   "source": [
    "df"
   ]
  },
  {
   "cell_type": "code",
   "execution_count": 47,
   "id": "3ef1405f-611f-45df-b81e-15d50e973e39",
   "metadata": {},
   "outputs": [],
   "source": [
    "km = KMeans(n_clusters=3, n_init='auto')\n",
    "y_predicted = km.fit_predict(df[['Age', 'Income']])\n",
    "df['cluster'] = y_predicted"
   ]
  },
  {
   "cell_type": "code",
   "execution_count": 48,
   "id": "a32c5ccc-4037-47d5-9502-b185d2d30f55",
   "metadata": {},
   "outputs": [
    {
     "data": {
      "text/html": [
       "<div>\n",
       "<style scoped>\n",
       "    .dataframe tbody tr th:only-of-type {\n",
       "        vertical-align: middle;\n",
       "    }\n",
       "\n",
       "    .dataframe tbody tr th {\n",
       "        vertical-align: top;\n",
       "    }\n",
       "\n",
       "    .dataframe thead th {\n",
       "        text-align: right;\n",
       "    }\n",
       "</style>\n",
       "<table border=\"1\" class=\"dataframe\">\n",
       "  <thead>\n",
       "    <tr style=\"text-align: right;\">\n",
       "      <th></th>\n",
       "      <th>Name</th>\n",
       "      <th>Age</th>\n",
       "      <th>Income</th>\n",
       "      <th>cluster</th>\n",
       "    </tr>\n",
       "  </thead>\n",
       "  <tbody>\n",
       "    <tr>\n",
       "      <th>0</th>\n",
       "      <td>Rob</td>\n",
       "      <td>0.058824</td>\n",
       "      <td>0.213675</td>\n",
       "      <td>0</td>\n",
       "    </tr>\n",
       "    <tr>\n",
       "      <th>1</th>\n",
       "      <td>Michael</td>\n",
       "      <td>0.176471</td>\n",
       "      <td>0.384615</td>\n",
       "      <td>0</td>\n",
       "    </tr>\n",
       "    <tr>\n",
       "      <th>2</th>\n",
       "      <td>Mohen</td>\n",
       "      <td>0.176471</td>\n",
       "      <td>0.136752</td>\n",
       "      <td>0</td>\n",
       "    </tr>\n",
       "    <tr>\n",
       "      <th>3</th>\n",
       "      <td>Ismail</td>\n",
       "      <td>0.117647</td>\n",
       "      <td>0.128205</td>\n",
       "      <td>0</td>\n",
       "    </tr>\n",
       "    <tr>\n",
       "      <th>4</th>\n",
       "      <td>Kory</td>\n",
       "      <td>0.941176</td>\n",
       "      <td>0.897436</td>\n",
       "      <td>1</td>\n",
       "    </tr>\n",
       "    <tr>\n",
       "      <th>5</th>\n",
       "      <td>Guatam</td>\n",
       "      <td>0.764706</td>\n",
       "      <td>0.940171</td>\n",
       "      <td>1</td>\n",
       "    </tr>\n",
       "    <tr>\n",
       "      <th>6</th>\n",
       "      <td>David</td>\n",
       "      <td>0.882353</td>\n",
       "      <td>0.982906</td>\n",
       "      <td>1</td>\n",
       "    </tr>\n",
       "    <tr>\n",
       "      <th>7</th>\n",
       "      <td>Andrea</td>\n",
       "      <td>0.705882</td>\n",
       "      <td>1.000000</td>\n",
       "      <td>1</td>\n",
       "    </tr>\n",
       "    <tr>\n",
       "      <th>8</th>\n",
       "      <td>Brad</td>\n",
       "      <td>0.588235</td>\n",
       "      <td>0.948718</td>\n",
       "      <td>1</td>\n",
       "    </tr>\n",
       "    <tr>\n",
       "      <th>9</th>\n",
       "      <td>Angelina</td>\n",
       "      <td>0.529412</td>\n",
       "      <td>0.726496</td>\n",
       "      <td>1</td>\n",
       "    </tr>\n",
       "    <tr>\n",
       "      <th>10</th>\n",
       "      <td>Ronald</td>\n",
       "      <td>0.647059</td>\n",
       "      <td>0.786325</td>\n",
       "      <td>1</td>\n",
       "    </tr>\n",
       "    <tr>\n",
       "      <th>11</th>\n",
       "      <td>Tom</td>\n",
       "      <td>0.000000</td>\n",
       "      <td>0.000000</td>\n",
       "      <td>0</td>\n",
       "    </tr>\n",
       "    <tr>\n",
       "      <th>12</th>\n",
       "      <td>Arnold</td>\n",
       "      <td>0.058824</td>\n",
       "      <td>0.025641</td>\n",
       "      <td>0</td>\n",
       "    </tr>\n",
       "    <tr>\n",
       "      <th>13</th>\n",
       "      <td>Jared</td>\n",
       "      <td>0.117647</td>\n",
       "      <td>0.051282</td>\n",
       "      <td>0</td>\n",
       "    </tr>\n",
       "    <tr>\n",
       "      <th>14</th>\n",
       "      <td>Stark</td>\n",
       "      <td>0.176471</td>\n",
       "      <td>0.038462</td>\n",
       "      <td>0</td>\n",
       "    </tr>\n",
       "    <tr>\n",
       "      <th>15</th>\n",
       "      <td>Ranbir</td>\n",
       "      <td>0.352941</td>\n",
       "      <td>0.068376</td>\n",
       "      <td>0</td>\n",
       "    </tr>\n",
       "    <tr>\n",
       "      <th>16</th>\n",
       "      <td>Dipika</td>\n",
       "      <td>0.823529</td>\n",
       "      <td>0.170940</td>\n",
       "      <td>2</td>\n",
       "    </tr>\n",
       "    <tr>\n",
       "      <th>17</th>\n",
       "      <td>Priyanka</td>\n",
       "      <td>0.882353</td>\n",
       "      <td>0.153846</td>\n",
       "      <td>2</td>\n",
       "    </tr>\n",
       "    <tr>\n",
       "      <th>18</th>\n",
       "      <td>Nick</td>\n",
       "      <td>1.000000</td>\n",
       "      <td>0.162393</td>\n",
       "      <td>2</td>\n",
       "    </tr>\n",
       "    <tr>\n",
       "      <th>19</th>\n",
       "      <td>Alia</td>\n",
       "      <td>0.764706</td>\n",
       "      <td>0.299145</td>\n",
       "      <td>2</td>\n",
       "    </tr>\n",
       "    <tr>\n",
       "      <th>20</th>\n",
       "      <td>Sid</td>\n",
       "      <td>0.882353</td>\n",
       "      <td>0.316239</td>\n",
       "      <td>2</td>\n",
       "    </tr>\n",
       "    <tr>\n",
       "      <th>21</th>\n",
       "      <td>Abdul</td>\n",
       "      <td>0.764706</td>\n",
       "      <td>0.111111</td>\n",
       "      <td>2</td>\n",
       "    </tr>\n",
       "  </tbody>\n",
       "</table>\n",
       "</div>"
      ],
      "text/plain": [
       "        Name       Age    Income  cluster\n",
       "0        Rob  0.058824  0.213675        0\n",
       "1    Michael  0.176471  0.384615        0\n",
       "2      Mohen  0.176471  0.136752        0\n",
       "3     Ismail  0.117647  0.128205        0\n",
       "4       Kory  0.941176  0.897436        1\n",
       "5     Guatam  0.764706  0.940171        1\n",
       "6      David  0.882353  0.982906        1\n",
       "7     Andrea  0.705882  1.000000        1\n",
       "8       Brad  0.588235  0.948718        1\n",
       "9   Angelina  0.529412  0.726496        1\n",
       "10    Ronald  0.647059  0.786325        1\n",
       "11       Tom  0.000000  0.000000        0\n",
       "12    Arnold  0.058824  0.025641        0\n",
       "13     Jared  0.117647  0.051282        0\n",
       "14     Stark  0.176471  0.038462        0\n",
       "15    Ranbir  0.352941  0.068376        0\n",
       "16    Dipika  0.823529  0.170940        2\n",
       "17  Priyanka  0.882353  0.153846        2\n",
       "18      Nick  1.000000  0.162393        2\n",
       "19      Alia  0.764706  0.299145        2\n",
       "20       Sid  0.882353  0.316239        2\n",
       "21     Abdul  0.764706  0.111111        2"
      ]
     },
     "execution_count": 48,
     "metadata": {},
     "output_type": "execute_result"
    }
   ],
   "source": [
    "df"
   ]
  },
  {
   "cell_type": "code",
   "execution_count": 51,
   "id": "b6dce622-542c-46ea-8257-0448fd471b71",
   "metadata": {},
   "outputs": [
    {
     "data": {
      "text/plain": [
       "<matplotlib.collections.PathCollection at 0x1ac0ea27310>"
      ]
     },
     "execution_count": 51,
     "metadata": {},
     "output_type": "execute_result"
    },
    {
     "data": {
      "image/png": "[encoded data removed]",
      "text/plain": [
       "<Figure size 1400x600 with 1 Axes>"
      ]
     },
     "metadata": {},
     "output_type": "display_data"
    }
   ],
   "source": [
    "df1 = df[df.cluster ==0]\n",
    "df2 = df[df.cluster ==1]\n",
    "df3 = df[df.cluster ==2]\n",
    "plt.scatter(df1.Age, df1['Income'], color='green')\n",
    "plt.scatter(df2.Age, df2['Income'], color='red')\n",
    "plt.scatter(df3.Age, df3['Income'], color='black')\n",
    "plt.scatter(km.cluster_centers_[:,0], km.cluster_centers_[:,1], color='purple', marker='*', label='centroid')"
   ]
  },
  {
   "cell_type": "code",
   "execution_count": 50,
   "id": "1d200387-de4d-4078-aa1f-8822cc792d1c",
   "metadata": {},
   "outputs": [
    {
     "data": {
      "text/plain": [
       "array([[0.1372549 , 0.11633428],\n",
       "       [0.72268908, 0.8974359 ],\n",
       "       [0.85294118, 0.2022792 ]])"
      ]
     },
     "execution_count": 50,
     "metadata": {},
     "output_type": "execute_result"
    }
   ],
   "source": [
    "km.cluster_centers_"
   ]
  },
  {
   "cell_type": "code",
   "execution_count": 53,
   "id": "6818461e-bdf5-400d-a4ff-4102db064b56",
   "metadata": {},
   "outputs": [],
   "source": [
    "k_range = range(1, 10)\n",
    "sse = []\n",
    "for k in k_range:\n",
    "    km = KMeans(n_clusters=k, n_init='auto')\n",
    "    km.fit(df[['Age', 'Income']])\n",
    "    sse.append(km.inertia_)"
   ]
  },
  {
   "cell_type": "code",
   "execution_count": 54,
   "id": "ea5ccc86-289e-46cc-a0dd-7a970ad3c2f7",
   "metadata": {},
   "outputs": [
    {
     "data": {
      "text/plain": [
       "[<matplotlib.lines.Line2D at 0x1ac0eac0990>]"
      ]
     },
     "execution_count": 54,
     "metadata": {},
     "output_type": "execute_result"
    },
    {
     "data": {
      "image/png": "[encoded data removed]",
      "text/plain": [
       "<Figure size 1400x600 with 1 Axes>"
      ]
     },
     "metadata": {},
     "output_type": "display_data"
    }
   ],
   "source": [
    "plt.xlabel('k')\n",
    "plt.ylabel('Sum of squared error')\n",
    "plt.plot(k_range, sse)"
   ]
  },
  {
   "cell_type": "markdown",
   "id": "73db7e11-8e35-43cd-94f9-12bc03c522c0",
   "metadata": {},
   "source": [
    "<b> DBSCAN </b>\n",
    "<ul>\n",
    "    <li> Density Based Spatial Clustering of Applications With Noise (DBSCAN)</li>\n",
    "    <li> Clusters are dense regions in the data space, separated by regions of lower density</li>\n",
    "    <li> DBSCAN is based in this intuitive notion of \"clusters\" and \"noise\"</li>\n",
    "    <li> The key idea is that for each point of a cluster, the neighbourhood of a given radius has to contain at least a given number of points</li>\n",
    "    <li> Partitioning methods (K-means) and hierarchical clustering work for finding spherical shaped or convex clusters. In other words, they are suitable for compact and well-separated clusters. They are also severely impacted by the presense of noise of outliers</li>\n",
    "    <li> Real life data can contain clusters of arbitrary shape and can contain noise</li>\n",
    "</ul>"
   ]
  },
  {
   "cell_type": "markdown",
   "id": "63559ca4-d6d3-4f09-b0d6-1feb57ca10eb",
   "metadata": {},
   "source": [
    "<b> Parameters required for DBSCAN </b>\n",
    "<ul>\n",
    "    <li> <b>eps</b> It defines the neighbourhood around a data point. If the distance between two points is less than or equal to 'eps' then they are considered neighbours. If the eps value if chosen too small then a large part of the data will considered as outliers. One way to find the eps value is based on the k-distance graph.</li>\n",
    "    <li> <b>MinPts</b> Minimum number of neighbours (data points) with eps radius. The larger the dataset, the larger the value of MinPts should be. As a general rule, the minimum MinPts can ve derived from the number of dimensions D in the dataset as, MinPts >= D+1. The minimum value must be at last 3.</li>\n",
    "</ul>"
   ]
  },
  {
   "cell_type": "markdown",
   "id": "b42a2019-d01a-4bbb-9761-0b7c778bedb5",
   "metadata": {},
   "source": [
    "<ul>\n",
    "    <li> In this algorithm there are 3 types of data points</li>\n",
    "    <li> <b>Core Point</b> A point is a core point if is has more than MinPts within eps</li>\n",
    "    <li> <b> Border Point </b> A point which has fewer than MinPts within eps but is in the neighbourhood of a core point</li>\n",
    "    <li> <b> Noise or outlier </b> A point that is not a core point or a border point</li>\n",
    "</ul>"
   ]
  },
  {
   "cell_type": "markdown",
   "id": "b46b0dd2-6676-4733-8c64-27e9302c8cc7",
   "metadata": {},
   "source": [
    "<ul> \n",
    "    <li><b> Steps for DBSCAN Clustering Algorithm</b></li>\n",
    "    <li> Find all the points within eps and identify the core points with than MinPts neighbours</li>\n",
    "    <li> For each core point if it is not already assigned to a cluster assign them to the same cluster as the core point</li>\n",
    "    <li> Recursively find all connected points and assign them to the same cluster as the core points. A point a and b are said to the connected if there exists a point c which has a sufficient number of points in its neighbourhood and both points a and b are with eps distance. This is chaining process. So if b is a neighbour of , c is neighbour of d, and d is a neighbour of e, which in turn is a neighbour of a then b is a neighbour of a</li>\n",
    "    <li> Iterate through the remaining points. Points that don't belong to a cluster are noise</li>\n",
    "</ul>\n"
   ]
  },
  {
   "cell_type": "markdown",
   "id": "06d3d8e0-9324-4392-b011-ae6a18438f3d",
   "metadata": {},
   "source": [
    "<ul>\n",
    "    <li><b> Pseudo code for DBSCAN </b></li>\n",
    "    <li>DBSCAN(dataset, eps, MinPts)</li>\n",
    "    <li> C = 1</li>\n",
    "    <li> for each unvisited point p in data set {</li>\n",
    "    <li>      mark p as visited</li>\n",
    "    <li>      # find neighbours</li>\n",
    "    <li>      Neighbours N = find neighbouring points of p</li>\n",
    "    <li>      if |N| >= MinPts:</li>\n",
    "    <li>           N = N U N'</li>\n",
    "    <li>           if p' is not a member if any cluster:</li>\n",
    "    <li>                 add p' t cluster C</li>\n",
    "    <li>}</li>\n",
    "    \n",
    "</ul>"
   ]
  },
  {
   "cell_type": "code",
   "execution_count": 1,
   "id": "e59339b5-c5b0-4d0c-8227-490194eaa926",
   "metadata": {},
   "outputs": [],
   "source": [
    "import matplotlib.pyplot as plt\n",
    "import numpy as np\n",
    "from sklearn.cluster import DBSCAN\n",
    "from sklearn import metrics\n",
    "from sklearn.datasets import make_blobs\n",
    "from sklearn.preprocessing import StandardScaler\n",
    "from sklearn import datasets"
   ]
  },
  {
   "cell_type": "code",
   "execution_count": 2,
   "id": "0ea46d13-b2fb-4b6e-bfd1-7bb60d7021b4",
   "metadata": {},
   "outputs": [],
   "source": [
    "X, y = make_blobs(n_samples=300, centers=4, cluster_std=0.5, random_state=0)"
   ]
  },
  {
   "cell_type": "code",
   "execution_count": 3,
   "id": "a7153754-1de2-4ea6-b554-72697d0c5715",
   "metadata": {},
   "outputs": [
    {
     "data": {
      "text/plain": [
       "array([[ 1.03992529,  1.92991009],\n",
       "       [-1.38609104,  7.48059603],\n",
       "       [ 1.12538917,  4.96698028],\n",
       "       [-1.05688956,  7.81833888],\n",
       "       [ 1.4020041 ,  1.726729  ],\n",
       "       [ 3.20722587,  0.36765575],\n",
       "       [-1.76133611,  1.81716162],\n",
       "       [ 1.34081536,  4.36827878],\n",
       "       [-0.37881944,  8.33265721],\n",
       "       [-0.80062564,  8.52294205],\n",
       "       [-1.68146124,  2.80114893],\n",
       "       [-2.43304923,  8.26748617],\n",
       "       [ 1.19820169,  4.47062449],\n",
       "       [-2.06457304,  7.05157615],\n",
       "       [ 1.55515985,  0.12527811],\n",
       "       [ 0.5408715 ,  4.0143625 ],\n",
       "       [ 1.05374379,  4.49286859],\n",
       "       [ 2.48368283,  0.57215086],\n",
       "       [-1.14357242,  3.09602867],\n",
       "       [-1.15330985,  2.32340978],\n",
       "       [ 2.60509732,  1.22529553],\n",
       "       [ 1.82346953,  1.1384044 ],\n",
       "       [ 0.77468161,  4.91500986],\n",
       "       [-1.91821859,  2.86268761],\n",
       "       [-1.85305081,  2.65728761],\n",
       "       [-0.30022483,  4.63059663],\n",
       "       [ 1.7571105 ,  0.87138001],\n",
       "       [ 0.65834704,  4.64200397],\n",
       "       [-2.65468613,  2.40662884],\n",
       "       [ 0.31831637,  4.07299503],\n",
       "       [-0.63582049,  7.86788807],\n",
       "       [-1.92221849,  7.45467332],\n",
       "       [ 1.72330962,  4.2012082 ],\n",
       "       [-1.15072093,  6.94467859],\n",
       "       [-1.57828393,  7.92336949],\n",
       "       [-2.22415783,  7.50551415],\n",
       "       [-1.88810036,  7.54274441],\n",
       "       [-2.39256579,  7.96120222],\n",
       "       [-2.09031692,  2.55254338],\n",
       "       [ 1.72906323,  0.70218697],\n",
       "       [ 0.72086751,  3.71347124],\n",
       "       [-1.90897598,  2.19898652],\n",
       "       [ 0.12313498,  5.27917503],\n",
       "       [ 1.44989606,  4.22628228],\n",
       "       [-1.67282269,  2.53713616],\n",
       "       [-1.10608838,  2.79315297],\n",
       "       [-1.35673056,  8.05815664],\n",
       "       [-1.54798974,  2.77443867],\n",
       "       [-1.44057849,  7.61354197],\n",
       "       [ 1.99999719,  1.40775002],\n",
       "       [-1.87925415,  3.38951262],\n",
       "       [ 2.38845906,  0.66730377],\n",
       "       [-0.95331586,  7.65353061],\n",
       "       [ 1.75660949,  0.7787028 ],\n",
       "       [ 1.8062513 ,  1.86242969],\n",
       "       [-1.18001744,  2.83809554],\n",
       "       [-0.24262743,  7.8131623 ],\n",
       "       [-1.20524678,  2.13257056],\n",
       "       [-1.71333403,  7.74616547],\n",
       "       [ 1.50307585,  0.9237462 ],\n",
       "       [-2.08886488,  7.39097434],\n",
       "       [ 0.63910375,  4.31970261],\n",
       "       [-1.49966413,  9.04168686],\n",
       "       [-1.1196441 ,  2.94734506],\n",
       "       [-2.0124563 ,  3.07529086],\n",
       "       [-1.24325887,  2.80654471],\n",
       "       [-2.25645909,  7.5657327 ],\n",
       "       [ 2.31721303,  0.9418747 ],\n",
       "       [-2.43034268,  7.84562711],\n",
       "       [-1.50215652,  3.16480065],\n",
       "       [ 1.26456549,  4.19963795],\n",
       "       [-0.66054342,  3.26013281],\n",
       "       [-1.07236572,  8.02507778],\n",
       "       [-1.59195749,  2.96485888],\n",
       "       [-1.50758874,  2.08952471],\n",
       "       [-0.8625528 ,  8.35017943],\n",
       "       [-1.71934392,  2.96505806],\n",
       "       [ 1.15445328,  4.65707391],\n",
       "       [ 2.1262441 ,  0.73799945],\n",
       "       [-1.07087693,  8.14390329],\n",
       "       [ 1.38813829,  0.22430491],\n",
       "       [ 0.65910903,  4.12241674],\n",
       "       [ 1.40883907,  1.03118909],\n",
       "       [ 1.78383678,  1.10568868],\n",
       "       [-0.99891064,  8.35944609],\n",
       "       [ 0.94214928,  5.16045869],\n",
       "       [ 2.31690585,  0.81189049],\n",
       "       [ 0.51985897,  4.86229547],\n",
       "       [-1.9143616 ,  6.85114767],\n",
       "       [-1.4219811 ,  7.54482578],\n",
       "       [ 0.60389267,  3.89056806],\n",
       "       [ 1.82750127,  0.90640324],\n",
       "       [-1.83783474,  8.48617405],\n",
       "       [-1.70925079,  2.99623419],\n",
       "       [-1.23764326,  3.09270949],\n",
       "       [ 1.13280393,  3.87673946],\n",
       "       [ 1.47717631,  1.28826271],\n",
       "       [ 2.51035698,  1.05627277],\n",
       "       [ 0.38970838,  5.27559792],\n",
       "       [-2.85649013,  3.22104202],\n",
       "       [-0.69811361,  8.484471  ],\n",
       "       [ 1.73345832, -0.21403792],\n",
       "       [-0.77702172,  7.70166264],\n",
       "       [ 2.31579996,  0.60976968],\n",
       "       [ 1.03972612,  4.50478201],\n",
       "       [ 2.19843937,  1.20208558],\n",
       "       [ 2.37533328,  0.08918564],\n",
       "       [ 1.28330976,  4.76489066],\n",
       "       [-1.30350048,  7.00511011],\n",
       "       [ 0.98152009,  5.19672257],\n",
       "       [-1.14027752,  2.32594194],\n",
       "       [-1.59375479,  3.45675416],\n",
       "       [ 1.65356269,  0.55288877],\n",
       "       [-2.02347045,  8.04411943],\n",
       "       [ 1.8706766 ,  0.77797407],\n",
       "       [ 1.91784543,  3.6299078 ],\n",
       "       [-1.57753226,  7.57834303],\n",
       "       [ 1.26379832,  1.20285335],\n",
       "       [ 1.68548602,  1.66917096],\n",
       "       [ 0.54565724,  5.2588198 ],\n",
       "       [-0.70283655,  2.99999614],\n",
       "       [ 1.74122374,  0.6571501 ],\n",
       "       [-1.09794205,  3.48843319],\n",
       "       [ 1.46083789,  0.64425548],\n",
       "       [ 1.53264084,  1.5032363 ],\n",
       "       [ 2.04675731,  1.08723953],\n",
       "       [ 1.73654901,  0.69902775],\n",
       "       [-1.38668316,  2.42132046],\n",
       "       [ 1.28486901,  0.92929466],\n",
       "       [-1.70361989,  2.10964517],\n",
       "       [-0.49159173,  8.11202605],\n",
       "       [-1.61943085,  2.51405802],\n",
       "       [-1.66077078,  2.3538766 ],\n",
       "       [ 2.36788325,  0.09663483],\n",
       "       [-1.35802629,  7.29344171],\n",
       "       [-1.29819621,  2.43557625],\n",
       "       [-2.25017136,  3.31803124],\n",
       "       [-1.95123723,  7.54043119],\n",
       "       [ 0.56969694,  3.44064603],\n",
       "       [-0.65756647,  7.51950814],\n",
       "       [-2.3680578 ,  8.03620954],\n",
       "       [-1.12662161,  2.95701235],\n",
       "       [ 1.2091013 ,  3.53566548],\n",
       "       [-1.60573752,  4.04624401],\n",
       "       [ 1.72039618,  5.25173192],\n",
       "       [-1.7245185 ,  2.338172  ],\n",
       "       [-1.35955862,  7.37892041],\n",
       "       [ 0.16932115,  4.19741719],\n",
       "       [-1.12719679,  7.39109989],\n",
       "       [-1.7026374 ,  7.62330121],\n",
       "       [-1.46785054,  7.92612923],\n",
       "       [ 0.96217896,  4.51795326],\n",
       "       [-0.70915712,  6.55586768],\n",
       "       [ 0.3498724 ,  4.69253251],\n",
       "       [ 1.64858539,  0.1644515 ],\n",
       "       [-1.11611116,  2.92052858],\n",
       "       [-0.97659983,  8.05498149],\n",
       "       [-1.82623098,  2.35993377],\n",
       "       [ 1.89982444,  0.94636374],\n",
       "       [ 1.08040757,  4.79210685],\n",
       "       [-1.818157  ,  8.22793878],\n",
       "       [ 0.72144399,  4.08475018],\n",
       "       [ 0.78260667,  4.15263595],\n",
       "       [ 1.7092426 ,  1.66585219],\n",
       "       [ 0.84226839,  4.70501553],\n",
       "       [-2.44843879,  2.67889526],\n",
       "       [-1.05538097,  1.54804368],\n",
       "       [ 0.34102758,  4.78848568],\n",
       "       [ 1.5381461 ,  1.23846092],\n",
       "       [ 1.17427343,  3.75725657],\n",
       "       [ 1.06498315,  4.10289686],\n",
       "       [-1.22975291,  8.21941122],\n",
       "       [ 1.57729502,  0.72467277],\n",
       "       [ 1.74265969,  5.03846671],\n",
       "       [-1.35745195,  3.92840404],\n",
       "       [-1.16629149,  7.88362069],\n",
       "       [ 2.4001766 ,  1.54858677],\n",
       "       [ 2.26839689,  1.23611768],\n",
       "       [ 0.64003985,  4.12401075],\n",
       "       [-1.06097983,  3.08786475],\n",
       "       [ 2.52997792,  0.94143928],\n",
       "       [ 1.56565986,  4.21382491],\n",
       "       [-2.10558164,  2.76173614],\n",
       "       [-1.5698694 ,  3.01502873],\n",
       "       [ 0.23064128,  4.52348318],\n",
       "       [ 1.35678894,  4.36462484],\n",
       "       [ 1.04829186,  5.03092408],\n",
       "       [ 0.802314  ,  4.38196181],\n",
       "       [ 2.4010369 ,  1.24503823],\n",
       "       [-1.65106903,  7.27630405],\n",
       "       [ 0.4519936 ,  3.59377836],\n",
       "       [-1.08898763,  2.86032853],\n",
       "       [ 1.00952869,  4.45502328],\n",
       "       [ 0.62898615,  4.22897006],\n",
       "       [-2.01965938,  2.18196476],\n",
       "       [-1.38964583,  2.47242472],\n",
       "       [-2.57420555,  2.97974322],\n",
       "       [ 1.53958804,  3.76382157],\n",
       "       [-1.87082282,  2.31084356],\n",
       "       [-1.72044002,  7.95451159],\n",
       "       [ 1.16448284,  3.75408693],\n",
       "       [-1.06215146,  3.20899456],\n",
       "       [ 1.90076104,  0.05966176],\n",
       "       [-1.76032679,  2.2094292 ],\n",
       "       [ 1.1774409 ,  3.96138228],\n",
       "       [-1.44445027,  6.31238849],\n",
       "       [-1.55771721,  2.86422962],\n",
       "       [-0.77988454,  8.54162387],\n",
       "       [ 1.05960683,  4.62130305],\n",
       "       [-1.02136482,  6.92058981],\n",
       "       [ 1.31241746,  4.50751825],\n",
       "       [-1.62223076,  2.7204575 ],\n",
       "       [ 0.16117091,  4.53517846],\n",
       "       [ 1.59141542,  4.90497725],\n",
       "       [-1.3790785 ,  7.74433762],\n",
       "       [-0.84463809,  2.57315767],\n",
       "       [-0.99264931,  2.69118936],\n",
       "       [ 1.9961855 ,  0.55757456],\n",
       "       [ 2.80250979, -0.13732885],\n",
       "       [ 0.5226209 ,  4.32976003],\n",
       "       [-1.76322342,  7.66048833],\n",
       "       [ 2.4484315 ,  0.66445411],\n",
       "       [ 2.04310446,  0.52864821],\n",
       "       [-2.4048493 ,  3.14334949],\n",
       "       [ 1.69246883,  0.20598168],\n",
       "       [-2.41117324,  3.09562316],\n",
       "       [ 0.5323772 ,  3.31338909],\n",
       "       [-0.58868734,  7.39425061],\n",
       "       [-1.14860568,  7.81015825],\n",
       "       [ 1.93774109,  5.04404472],\n",
       "       [ 0.99914934,  4.2101954 ],\n",
       "       [-1.36926569,  8.5945906 ],\n",
       "       [ 0.76946059,  3.93005992],\n",
       "       [ 1.08712762,  0.99205296],\n",
       "       [-1.17767544,  2.91976771],\n",
       "       [ 0.82049381,  4.33187   ],\n",
       "       [ 1.98882723,  0.74876822],\n",
       "       [-1.29533885,  3.05743014],\n",
       "       [-1.10611594,  8.70679441],\n",
       "       [-1.81156004,  3.05283444],\n",
       "       [ 2.64928242,  1.05613497],\n",
       "       [ 0.39369516,  4.75420057],\n",
       "       [ 3.184922  ,  0.87653508],\n",
       "       [-1.52541059,  7.60014119],\n",
       "       [-1.48327222,  7.72709428],\n",
       "       [-1.72850797,  7.43890133],\n",
       "       [-1.6127781 ,  7.93373872],\n",
       "       [-1.63035585,  3.35797172],\n",
       "       [-1.34149151,  2.98891316],\n",
       "       [-0.81695777,  6.50765047],\n",
       "       [ 2.16784247,  4.77602707],\n",
       "       [-1.53474507,  2.99834635],\n",
       "       [ 1.58304439,  0.69263881],\n",
       "       [ 0.59131204,  4.57341192],\n",
       "       [-1.76673192,  3.22806141],\n",
       "       [-1.86890946,  3.74765766],\n",
       "       [-0.76690658,  3.77767692],\n",
       "       [ 2.03562611,  0.31361691],\n",
       "       [ 2.13352079,  1.01375418],\n",
       "       [-1.3497042 ,  7.78051863],\n",
       "       [ 0.92466065,  4.50908658],\n",
       "       [ 0.44089377,  4.83101319],\n",
       "       [-2.05421825,  3.32800618],\n",
       "       [ 1.4815332 ,  0.67875364],\n",
       "       [-0.68395874,  8.08346049],\n",
       "       [-1.09242227,  3.05631821],\n",
       "       [ 1.40848818,  3.93270482],\n",
       "       [-0.70008235,  7.71835211],\n",
       "       [ 0.7586933 ,  5.22841919],\n",
       "       [ 2.10413001,  1.1891405 ],\n",
       "       [ 1.34323707,  0.65100372],\n",
       "       [-2.37595692,  3.1115225 ],\n",
       "       [-1.88670621,  2.51138577],\n",
       "       [ 2.11114739,  3.57660449],\n",
       "       [ 3.1368855 ,  1.56592763],\n",
       "       [ 1.87827057,  0.21018801],\n",
       "       [ 1.44254976,  1.31984515],\n",
       "       [ 1.91004956,  4.75680966],\n",
       "       [-1.24394183,  8.09896212],\n",
       "       [-1.75727671,  7.79653264],\n",
       "       [ 2.6314333 ,  1.43747296],\n",
       "       [ 2.51569693,  1.05702749],\n",
       "       [ 1.54597042,  3.68637442],\n",
       "       [ 2.30213841,  0.83961169],\n",
       "       [ 2.19522982,  0.84858847],\n",
       "       [ 3.03322368,  1.09271032],\n",
       "       [-1.5070153 ,  7.34604509],\n",
       "       [-0.79361466,  3.34415823],\n",
       "       [-1.31378278,  8.40199996],\n",
       "       [ 0.92704382,  3.97204818],\n",
       "       [ 2.25479069, -0.48863272],\n",
       "       [ 1.85554301,  1.0826916 ],\n",
       "       [-1.14151575,  7.23117319],\n",
       "       [-1.58726867,  8.48438291],\n",
       "       [-1.27110776,  7.94571384],\n",
       "       [ 1.98729267,  1.46610934],\n",
       "       [ 2.4411628 ,  1.30941574],\n",
       "       [ 0.5285368 ,  4.49723858],\n",
       "       [ 0.09985625,  7.79849768],\n",
       "       [-1.74736533,  2.77770451]])"
      ]
     },
     "execution_count": 3,
     "metadata": {},
     "output_type": "execute_result"
    }
   ],
   "source": [
    "X\n"
   ]
  },
  {
   "cell_type": "code",
   "execution_count": 4,
   "id": "a6aa2475-83ab-4f80-ab20-d6c3723365ac",
   "metadata": {},
   "outputs": [
    {
     "data": {
      "text/plain": [
       "array([1, 3, 0, 3, 1, 1, 2, 0, 3, 3, 2, 3, 0, 3, 1, 0, 0, 1, 2, 2, 1, 1,\n",
       "       0, 2, 2, 0, 1, 0, 2, 0, 3, 3, 0, 3, 3, 3, 3, 3, 2, 1, 0, 2, 0, 0,\n",
       "       2, 2, 3, 2, 3, 1, 2, 1, 3, 1, 1, 2, 3, 2, 3, 1, 3, 0, 3, 2, 2, 2,\n",
       "       3, 1, 3, 2, 0, 2, 3, 2, 2, 3, 2, 0, 1, 3, 1, 0, 1, 1, 3, 0, 1, 0,\n",
       "       3, 3, 0, 1, 3, 2, 2, 0, 1, 1, 0, 2, 3, 1, 3, 1, 0, 1, 1, 0, 3, 0,\n",
       "       2, 2, 1, 3, 1, 0, 3, 1, 1, 0, 2, 1, 2, 1, 1, 1, 1, 2, 1, 2, 3, 2,\n",
       "       2, 1, 3, 2, 2, 3, 0, 3, 3, 2, 0, 2, 0, 2, 3, 0, 3, 3, 3, 0, 3, 0,\n",
       "       1, 2, 3, 2, 1, 0, 3, 0, 0, 1, 0, 2, 2, 0, 1, 0, 0, 3, 1, 0, 2, 3,\n",
       "       1, 1, 0, 2, 1, 0, 2, 2, 0, 0, 0, 0, 1, 3, 0, 2, 0, 0, 2, 2, 2, 0,\n",
       "       2, 3, 0, 2, 1, 2, 0, 3, 2, 3, 0, 3, 0, 2, 0, 0, 3, 2, 2, 1, 1, 0,\n",
       "       3, 1, 1, 2, 1, 2, 0, 3, 3, 0, 0, 3, 0, 1, 2, 0, 1, 2, 3, 2, 1, 0,\n",
       "       1, 3, 3, 3, 3, 2, 2, 3, 0, 2, 1, 0, 2, 2, 2, 1, 1, 3, 0, 0, 2, 1,\n",
       "       3, 2, 0, 3, 0, 1, 1, 2, 2, 0, 1, 1, 1, 0, 3, 3, 1, 1, 0, 1, 1, 1,\n",
       "       3, 2, 3, 0, 1, 1, 3, 3, 3, 1, 1, 0, 3, 2])"
      ]
     },
     "execution_count": 4,
     "metadata": {},
     "output_type": "execute_result"
    }
   ],
   "source": [
    "y"
   ]
  },
  {
   "cell_type": "code",
   "execution_count": 23,
   "id": "1d5a6eea-6e7f-4ce7-9bcc-112327943deb",
   "metadata": {},
   "outputs": [
    {
     "data": {
      "image/png": "[encoded data removed]",
      "text/plain": [
       "<Figure size 640x480 with 1 Axes>"
      ]
     },
     "metadata": {},
     "output_type": "display_data"
    }
   ],
   "source": [
    "db = DBSCAN(eps=0.3, min_samples = 10).fit(X)\n",
    "core_samples_mask = np.zeros_like(db.labels_, dtype=bool)\n",
    "core_samples_mask[db.core_sample_indices_] = True\n",
    "labels = db.labels_\n",
    "#Number of clusters in labels, ignoring noise if it is present\n",
    "n_clusters = len(set(labels)) - (1 if -1 in labels else 0)\n",
    "#Plot result\n",
    "# Black will be used for noise\n",
    "unique_labels = set(labels)\n",
    "colours = ['y', 'b', 'g', 'r']\n",
    "for k, col in zip(unique_labels, colours):\n",
    "    if k == -1:\n",
    "        #Black used for noise\n",
    "        col = 'k'\n",
    "\n",
    "    class_member_mask = (labels == k)\n",
    "    xy = X[class_member_mask & core_samples_mask]\n",
    "    plt.plot(xy[:, 0], xy[:, 1], 'o', markerfacecolor = col, markeredgecolor='k', markersize = 6)\n",
    "\n",
    "    xy = X[class_member_mask & ~core_samples_mask]\n",
    "    plt.plot(xy[:, 0], xy[:, 1], 'o', markerfacecolor = col, markeredgecolor='k', markersize = 6)\n",
    "\n",
    "plt.title(f\"Number of clusters {n_clusters}\")\n",
    "plt.show()\n",
    "\n"
   ]
  },
  {
   "cell_type": "code",
   "execution_count": 18,
   "id": "704f8312-8ed7-40e9-9061-7e1ff7613dd3",
   "metadata": {},
   "outputs": [
    {
     "data": {
      "text/plain": [
       "4"
      ]
     },
     "execution_count": 18,
     "metadata": {},
     "output_type": "execute_result"
    }
   ],
   "source": [
    "n_clusters"
   ]
  },
  {
   "cell_type": "code",
   "execution_count": null,
   "id": "50ab34eb-99b6-4cc8-84b9-7af20f1564ca",
   "metadata": {},
   "outputs": [],
   "source": []
  }
 ],
 "metadata": {
  "kernelspec": {
   "display_name": "Python 3 (ipykernel)",
   "language": "python",
   "name": "python3"
  },
  "language_info": {
   "codemirror_mode": {
    "name": "ipython",
    "version": 3
   },
   "file_extension": ".py",
   "mimetype": "text/x-python",
   "name": "python",
   "nbconvert_exporter": "python",
   "pygments_lexer": "ipython3",
   "version": "3.11.5"
  }
 },
 "nbformat": 4,
 "nbformat_minor": 5
}
