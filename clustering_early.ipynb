{
 "cells": [
  {
   "cell_type": "markdown",
   "id": "66b319c4",
   "metadata": {},
   "source": [
    "<ul>\n",
    "    <li><b>Clustering</b> is a machine learning technique that uses unsupervised learning.</li>\n",
    "    - Group unlabelled data into natural clusters\n",
    "    <li> Clustering is an optimization problem </li>\n",
    "    <li> $variability(c) = \\sum_{e \\in c} distance(mean(c), e)^2$</li>\n",
    "    <li> Variance is different from variability, you don't divide by n. This is because in clustering big and bad is worse than small and bad. </li>\n",
    "    <li>$dissimilarity(C) = \\sum_{c \\in C}variability(c)$</li>\n",
    "    <li> Find a C that minimises dissimilarity</li>\n",
    "    <li> In order for this not to end up as each point being a cluster we add a constraint e.g. the clusters have to have some minimum distance between them or constrain the number of clusters</li>\n",
    "    </ul>"
   ]
  },
  {
   "cell_type": "markdown",
   "id": "36dd20ca",
   "metadata": {},
   "source": [
    "<ul>\n",
    "    <li><b>Hieracrhical Clustering </b></li>\n",
    "    <li> Start by assigning each item to a cluster so that if you have N items you now have N clusters, each containing just one item</li>\n",
    "    <li>Find the closest (most similar) pair of clusters and merge them into a single cluster, so that now you have one fewer clusters</li>\n",
    "    <li>Continue until all items are clustered into a single cluster of size N</li>\n",
    "    <li> Agglomerative hierarchical clustering </li>\n",
    "    <li> What do we mean by closest?</li>\n",
    "    <li> Can get different clusters depending linkage metric we use </li>\n",
    "    <li> <b>Single Linkage:</b> consider the distance between one clsuter and another cluster to be equal to the shortest distance from any member of one cluster to any member of another cluster</li>\n",
    "    <li><b>Complete linkage</b>: consider the distance between one cluster and another cluster to be equal to the greatest distance from any member of one cluster to any member of the other cluster</li>\n",
    "    <li><b>Average linkage</b>: consider the distance between one cluster and another cluster to be te average distance from any member of one cluster to any member of the other cluster</li>\n",
    "    <ul>\n",
    "    "
   ]
  },
  {
   "cell_type": "markdown",
   "id": "02c3a929",
   "metadata": {},
   "source": [
    "<table style=\"width:50%\">\n",
    "<tr>\n",
    "    <th>BOS</th>    \n",
    "    <th>NY</th>\n",
    "    <th>CHI</th>\n",
    "    <th>DEN</th>\n",
    "    <th>SF</th>\n",
    "    <th>SEA</th>\n",
    "</tr>\n",
    "<tr>\n",
    "    <th>0</th>    \n",
    "    <th>206</th>\n",
    "    <th>963</th>\n",
    "    <th>1949</th>\n",
    "    <th>3095</th>\n",
    "    <th>2979</th>\n",
    "</tr>\n",
    "    <tr>\n",
    "    <th>0</th>    \n",
    "    <th>0</th>\n",
    "    <th>802</th>\n",
    "    <th>1771</th>\n",
    "    <th>2934</th>\n",
    "    <th>2815</th>\n",
    "</tr>\n",
    "<tr>\n",
    "    <th>0</th>    \n",
    "    <th>0</th>\n",
    "    <th>0</th>\n",
    "    <th>966</th>\n",
    "    <th>1235</th>\n",
    "    <th>1307</th>\n",
    "</tr>\n",
    "<tr>\n",
    "    <th>0</th>    \n",
    "    <th>0</th>\n",
    "    <th>0</th>\n",
    "    <th>0</th>\n",
    "    <th>1235</th>\n",
    "    <th>1307</th>\n",
    "</tr>\n",
    "<tr>\n",
    "    <th>0</th>    \n",
    "    <th>0</th>\n",
    "    <th>0</th>\n",
    "    <th>0</th>\n",
    "    <th>0</th>\n",
    "    <th>808</th>\n",
    "</tr>\n",
    "<tr>\n",
    "    <th>0</th>    \n",
    "    <th>0</th>\n",
    "    <th>0</th>\n",
    "    <th>0</th>\n",
    "    <th>0</th>\n",
    "    <th>0</th>\n",
    "</tr>\n",
    "\n",
    "</table>"
   ]
  },
  {
   "cell_type": "markdown",
   "id": "3ce19f41",
   "metadata": {},
   "source": [
    "Cluster airports based on their distance."
   ]
  },
  {
   "cell_type": "markdown",
   "id": "bcd8981b",
   "metadata": {},
   "source": [
    "__Clusters__\n",
    "- [BOS, NY] [CHI] [DEN] [SF] [SEA]\n",
    "- [BOS, NY ,CHI] [DEN] [SF] [SEA]\n",
    "- [BOS, NY ,CHI] [DEN] [SF, SEA]\n",
    "    - _Single_ -> [BOS, NY ,CHI, DEN] [SF, SEA]\n",
    "    - _Complete_ -> [BOS, NY ,CHI] [DEN, SF, SEA]"
   ]
  },
  {
   "cell_type": "markdown",
   "id": "c609e989",
   "metadata": {},
   "source": [
    "__Pros and Cons of hierarchical clustering__\n",
    "\n",
    "- Get a history of dendrograms\n",
    "- Deterministic given a linkage metric\n",
    "- Answer might not be optimal. Greedy algorithm. Making locally optimal decisions at each point may or may not give us optimal solution\n",
    "- Flexible\n",
    "- Really slow, complexity $O(n^3)$. Not something you want to work with on large datasets."
   ]
  },
  {
   "cell_type": "code",
   "execution_count": 40,
   "id": "d6f671b0",
   "metadata": {},
   "outputs": [
    {
     "data": {
      "image/png": "[encoded data removed]",
      "text/plain": [
       "<Figure size 640x480 with 1 Axes>"
      ]
     },
     "metadata": {},
     "output_type": "display_data"
    }
   ],
   "source": [
    "import numpy as np\n",
    "import matplotlib.pyplot as plt\n",
    "import scipy.cluster.hierarchy as sch\n",
    "\n",
    "data = [0, 4, 6, 30, 39, 52, 56, 58]\n",
    "Z = np.reshape(data, (len(data), 1))\n",
    "dendrogram = sch.dendrogram(sch.linkage(Z, method='average'), labels=data)"
   ]
  },
  {
   "cell_type": "code",
   "execution_count": 41,
   "id": "370094d2",
   "metadata": {},
   "outputs": [],
   "source": [
    "airports = ['BOS', 'NY', 'CHI', 'DEN', 'SF', 'SEA']\n",
    "distance = [[0, 206, 963, 1949, 3095, 2979],\n",
    "            [206, 0, 802, 1771, 2934, 2815],\n",
    "            [963, 802, 0, 966, 1858, 2013],\n",
    "            [1949, 1771, 966, 0, 1235, 1307],\n",
    "            [3095, 2934, 1858, 1235, 0, 808],\n",
    "            [2979, 2815, 2013, 1307, 808, 0]]\n"
   ]
  },
  {
   "cell_type": "code",
   "execution_count": 42,
   "id": "9aebbdc0",
   "metadata": {},
   "outputs": [
    {
     "data": {
      "image/png": "[encoded data removed]",
      "text/plain": [
       "<Figure size 640x480 with 1 Axes>"
      ]
     },
     "metadata": {},
     "output_type": "display_data"
    }
   ],
   "source": [
    "from scipy.spatial.distance import squareform\n",
    "\n",
    "condensed_dist_matrix = squareform(distance)\n",
    "dendrogram = sch.dendrogram(sch.linkage(condensed_dist_matrix, method='average'), labels=airports)"
   ]
  },
  {
   "cell_type": "code",
   "execution_count": 43,
   "id": "2de6ec52",
   "metadata": {},
   "outputs": [],
   "source": [
    "import numpy as np\n",
    "import matplotlib.pyplot as plt\n",
    "from sklearn.datasets import make_blobs"
   ]
  },
  {
   "cell_type": "code",
   "execution_count": 44,
   "id": "891008c1",
   "metadata": {},
   "outputs": [],
   "source": [
    "dataset = make_blobs(n_samples=50, n_features=2, centers=4, cluster_std=1.6, random_state=50)"
   ]
  },
  {
   "cell_type": "code",
   "execution_count": 45,
   "id": "a4382ab6",
   "metadata": {},
   "outputs": [],
   "source": [
    "points = dataset[0]"
   ]
  },
  {
   "cell_type": "code",
   "execution_count": 46,
   "id": "30a86f14",
   "metadata": {},
   "outputs": [
    {
     "data": {
      "text/plain": [
       "array([[-0.48428125,  6.1339592 ],\n",
       "       [ 0.11528327, -4.98158692],\n",
       "       [ 0.09417313, -4.05882797],\n",
       "       [-7.556685  , -2.42379349],\n",
       "       [ 0.59860361,  3.34704241],\n",
       "       [-4.73695683, -1.23390307],\n",
       "       [-1.88583355, -0.65794471],\n",
       "       [-1.25918778,  8.42166447],\n",
       "       [-5.46469501, -1.4677575 ],\n",
       "       [-5.21118763, -0.88454091],\n",
       "       [-2.39128542,  9.5902579 ],\n",
       "       [-3.79577694, -3.94197151],\n",
       "       [-0.55798628, -2.70088621],\n",
       "       [-2.84694071, 11.70447814],\n",
       "       [-5.88958899, -1.47219541],\n",
       "       [-0.4497762 ,  4.58102297],\n",
       "       [-6.15966811, -2.13553844],\n",
       "       [-0.10009538,  8.99929345],\n",
       "       [-2.15963524, -7.56230415],\n",
       "       [-3.51874239, -4.48330466],\n",
       "       [-1.32101631, 10.72186833],\n",
       "       [ 5.19455346, -3.85790517],\n",
       "       [ 1.00681205, -5.97364221],\n",
       "       [-1.16539558,  7.39086886],\n",
       "       [-3.25968528,  5.44630828],\n",
       "       [-5.39405829,  0.12384806],\n",
       "       [-3.87922543,  9.49845046],\n",
       "       [-2.31431452,  9.98631399],\n",
       "       [-1.92013725,  4.42303016],\n",
       "       [-2.10577527,  5.12444161],\n",
       "       [-2.24909426,  5.51332975],\n",
       "       [-0.56211354, -4.45962342],\n",
       "       [-2.71698662, 10.37660367],\n",
       "       [-0.34759371, -4.33384716],\n",
       "       [-3.58545672, -1.99099252],\n",
       "       [-0.73829645, -5.2013526 ],\n",
       "       [-2.1545355 ,  5.99856908],\n",
       "       [-1.70400879, -2.88008464],\n",
       "       [-2.51936023,  5.24390715],\n",
       "       [-2.0981081 , 10.33438636],\n",
       "       [-0.76754221, -5.69548201],\n",
       "       [-0.67041938,  8.03267267],\n",
       "       [-1.35671783, -3.72590953],\n",
       "       [-1.61603241,  4.287006  ],\n",
       "       [ 1.64436813, -3.29688399],\n",
       "       [ 0.09021892, -4.24988128],\n",
       "       [ 0.85161314, 11.67201882],\n",
       "       [-7.08089219, -1.2951176 ],\n",
       "       [-3.68488684, -1.49185846],\n",
       "       [-2.41674576,  1.32440828]])"
      ]
     },
     "execution_count": 46,
     "metadata": {},
     "output_type": "execute_result"
    }
   ],
   "source": [
    "points"
   ]
  },
  {
   "cell_type": "code",
   "execution_count": 47,
   "id": "8f4dccc4",
   "metadata": {},
   "outputs": [],
   "source": [
    "import scipy.cluster.hierarchy as sch\n",
    "from sklearn.cluster import AgglomerativeClustering"
   ]
  },
  {
   "cell_type": "code",
   "execution_count": 48,
   "id": "598c604c",
   "metadata": {},
   "outputs": [
    {
     "data": {
      "image/png": "[encoded data removed]",
      "text/plain": [
       "<Figure size 640x480 with 1 Axes>"
      ]
     },
     "metadata": {},
     "output_type": "display_data"
    }
   ],
   "source": [
    "dendrogram = sch.dendrogram(sch.linkage(points, method='single'))"
   ]
  },
  {
   "cell_type": "code",
   "execution_count": 49,
   "id": "89c28443",
   "metadata": {},
   "outputs": [
    {
     "data": {
      "text/plain": [
       "<matplotlib.collections.PathCollection at 0x7f359eb28cd0>"
      ]
     },
     "execution_count": 49,
     "metadata": {},
     "output_type": "execute_result"
    },
    {
     "data": {
      "image/png": "[encoded data removed]",
      "text/plain": [
       "<Figure size 640x480 with 1 Axes>"
      ]
     },
     "metadata": {},
     "output_type": "display_data"
    }
   ],
   "source": [
    "plt.scatter(dataset[0][:,0], dataset[0][:,1])"
   ]
  },
  {
   "cell_type": "code",
   "execution_count": 50,
   "id": "7464cb4a",
   "metadata": {},
   "outputs": [
    {
     "data": {
      "text/plain": [
       "<matplotlib.collections.PathCollection at 0x7f359ee3e800>"
      ]
     },
     "execution_count": 50,
     "metadata": {},
     "output_type": "execute_result"
    },
    {
     "data": {
      "image/png": "[encoded data removed]",
      "text/plain": [
       "<Figure size 640x480 with 1 Axes>"
      ]
     },
     "metadata": {},
     "output_type": "display_data"
    }
   ],
   "source": [
    "hc = AgglomerativeClustering(n_clusters=4, linkage='complete', metric='euclidean')\n",
    "y_hc = hc.fit_predict(points)\n",
    "plt.scatter(points[y_hc ==0,0], points[y_hc == 0,1], s=100, c='cyan')\n",
    "plt.scatter(points[y_hc ==1,0], points[y_hc == 1,1], s=100, c='yellow')\n",
    "plt.scatter(points[y_hc ==2,0], points[y_hc == 2,1], s=100, c='red')\n",
    "plt.scatter(points[y_hc ==3,0], points[y_hc == 3,1], s=100, c='green')"
   ]
  },
  {
   "cell_type": "code",
   "execution_count": 51,
   "id": "f43d90c6",
   "metadata": {},
   "outputs": [
    {
     "name": "stderr",
     "output_type": "stream",
     "text": [
      "/tmp/ipykernel_4619/2040071766.py:1: DeprecationWarning: \n",
      "Pyarrow will become a required dependency of pandas in the next major release of pandas (pandas 3.0),\n",
      "(to allow more performant data types, such as the Arrow string type, and better interoperability with other libraries)\n",
      "but was not found to be installed on your system.\n",
      "If this would cause problems for you,\n",
      "please provide us feedback at https://github.com/pandas-dev/pandas/issues/54466\n",
      "        \n",
      "  import pandas as pandas\n"
     ]
    },
    {
     "ename": "FileNotFoundError",
     "evalue": "[Errno 2] No such file or directory: 'loan.csv'",
     "output_type": "error",
     "traceback": [
      "\u001b[0;31m---------------------------------------------------------------------------\u001b[0m",
      "\u001b[0;31mFileNotFoundError\u001b[0m                         Traceback (most recent call last)",
      "Cell \u001b[0;32mIn[51], line 2\u001b[0m\n\u001b[1;32m      1\u001b[0m \u001b[38;5;28;01mimport\u001b[39;00m \u001b[38;5;21;01mpandas\u001b[39;00m \u001b[38;5;28;01mas\u001b[39;00m \u001b[38;5;21;01mpandas\u001b[39;00m\n\u001b[0;32m----> 2\u001b[0m loan_data \u001b[38;5;241m=\u001b[39m \u001b[43mpandas\u001b[49m\u001b[38;5;241;43m.\u001b[39;49m\u001b[43mread_csv\u001b[49m\u001b[43m(\u001b[49m\u001b[38;5;124;43m'\u001b[39;49m\u001b[38;5;124;43mloan.csv\u001b[39;49m\u001b[38;5;124;43m'\u001b[39;49m\u001b[43m)\u001b[49m\n\u001b[1;32m      3\u001b[0m loan_data\u001b[38;5;241m.\u001b[39mhead()\n",
      "File \u001b[0;32m~/.local/lib/python3.10/site-packages/pandas/io/parsers/readers.py:1024\u001b[0m, in \u001b[0;36mread_csv\u001b[0;34m(filepath_or_buffer, sep, delimiter, header, names, index_col, usecols, dtype, engine, converters, true_values, false_values, skipinitialspace, skiprows, skipfooter, nrows, na_values, keep_default_na, na_filter, verbose, skip_blank_lines, parse_dates, infer_datetime_format, keep_date_col, date_parser, date_format, dayfirst, cache_dates, iterator, chunksize, compression, thousands, decimal, lineterminator, quotechar, quoting, doublequote, escapechar, comment, encoding, encoding_errors, dialect, on_bad_lines, delim_whitespace, low_memory, memory_map, float_precision, storage_options, dtype_backend)\u001b[0m\n\u001b[1;32m   1011\u001b[0m kwds_defaults \u001b[38;5;241m=\u001b[39m _refine_defaults_read(\n\u001b[1;32m   1012\u001b[0m     dialect,\n\u001b[1;32m   1013\u001b[0m     delimiter,\n\u001b[0;32m   (...)\u001b[0m\n\u001b[1;32m   1020\u001b[0m     dtype_backend\u001b[38;5;241m=\u001b[39mdtype_backend,\n\u001b[1;32m   1021\u001b[0m )\n\u001b[1;32m   1022\u001b[0m kwds\u001b[38;5;241m.\u001b[39mupdate(kwds_defaults)\n\u001b[0;32m-> 1024\u001b[0m \u001b[38;5;28;01mreturn\u001b[39;00m \u001b[43m_read\u001b[49m\u001b[43m(\u001b[49m\u001b[43mfilepath_or_buffer\u001b[49m\u001b[43m,\u001b[49m\u001b[43m \u001b[49m\u001b[43mkwds\u001b[49m\u001b[43m)\u001b[49m\n",
      "File \u001b[0;32m~/.local/lib/python3.10/site-packages/pandas/io/parsers/readers.py:618\u001b[0m, in \u001b[0;36m_read\u001b[0;34m(filepath_or_buffer, kwds)\u001b[0m\n\u001b[1;32m    615\u001b[0m _validate_names(kwds\u001b[38;5;241m.\u001b[39mget(\u001b[38;5;124m\"\u001b[39m\u001b[38;5;124mnames\u001b[39m\u001b[38;5;124m\"\u001b[39m, \u001b[38;5;28;01mNone\u001b[39;00m))\n\u001b[1;32m    617\u001b[0m \u001b[38;5;66;03m# Create the parser.\u001b[39;00m\n\u001b[0;32m--> 618\u001b[0m parser \u001b[38;5;241m=\u001b[39m \u001b[43mTextFileReader\u001b[49m\u001b[43m(\u001b[49m\u001b[43mfilepath_or_buffer\u001b[49m\u001b[43m,\u001b[49m\u001b[43m \u001b[49m\u001b[38;5;241;43m*\u001b[39;49m\u001b[38;5;241;43m*\u001b[39;49m\u001b[43mkwds\u001b[49m\u001b[43m)\u001b[49m\n\u001b[1;32m    620\u001b[0m \u001b[38;5;28;01mif\u001b[39;00m chunksize \u001b[38;5;129;01mor\u001b[39;00m iterator:\n\u001b[1;32m    621\u001b[0m     \u001b[38;5;28;01mreturn\u001b[39;00m parser\n",
      "File \u001b[0;32m~/.local/lib/python3.10/site-packages/pandas/io/parsers/readers.py:1618\u001b[0m, in \u001b[0;36mTextFileReader.__init__\u001b[0;34m(self, f, engine, **kwds)\u001b[0m\n\u001b[1;32m   1615\u001b[0m     \u001b[38;5;28mself\u001b[39m\u001b[38;5;241m.\u001b[39moptions[\u001b[38;5;124m\"\u001b[39m\u001b[38;5;124mhas_index_names\u001b[39m\u001b[38;5;124m\"\u001b[39m] \u001b[38;5;241m=\u001b[39m kwds[\u001b[38;5;124m\"\u001b[39m\u001b[38;5;124mhas_index_names\u001b[39m\u001b[38;5;124m\"\u001b[39m]\n\u001b[1;32m   1617\u001b[0m \u001b[38;5;28mself\u001b[39m\u001b[38;5;241m.\u001b[39mhandles: IOHandles \u001b[38;5;241m|\u001b[39m \u001b[38;5;28;01mNone\u001b[39;00m \u001b[38;5;241m=\u001b[39m \u001b[38;5;28;01mNone\u001b[39;00m\n\u001b[0;32m-> 1618\u001b[0m \u001b[38;5;28mself\u001b[39m\u001b[38;5;241m.\u001b[39m_engine \u001b[38;5;241m=\u001b[39m \u001b[38;5;28;43mself\u001b[39;49m\u001b[38;5;241;43m.\u001b[39;49m\u001b[43m_make_engine\u001b[49m\u001b[43m(\u001b[49m\u001b[43mf\u001b[49m\u001b[43m,\u001b[49m\u001b[43m \u001b[49m\u001b[38;5;28;43mself\u001b[39;49m\u001b[38;5;241;43m.\u001b[39;49m\u001b[43mengine\u001b[49m\u001b[43m)\u001b[49m\n",
      "File \u001b[0;32m~/.local/lib/python3.10/site-packages/pandas/io/parsers/readers.py:1878\u001b[0m, in \u001b[0;36mTextFileReader._make_engine\u001b[0;34m(self, f, engine)\u001b[0m\n\u001b[1;32m   1876\u001b[0m     \u001b[38;5;28;01mif\u001b[39;00m \u001b[38;5;124m\"\u001b[39m\u001b[38;5;124mb\u001b[39m\u001b[38;5;124m\"\u001b[39m \u001b[38;5;129;01mnot\u001b[39;00m \u001b[38;5;129;01min\u001b[39;00m mode:\n\u001b[1;32m   1877\u001b[0m         mode \u001b[38;5;241m+\u001b[39m\u001b[38;5;241m=\u001b[39m \u001b[38;5;124m\"\u001b[39m\u001b[38;5;124mb\u001b[39m\u001b[38;5;124m\"\u001b[39m\n\u001b[0;32m-> 1878\u001b[0m \u001b[38;5;28mself\u001b[39m\u001b[38;5;241m.\u001b[39mhandles \u001b[38;5;241m=\u001b[39m \u001b[43mget_handle\u001b[49m\u001b[43m(\u001b[49m\n\u001b[1;32m   1879\u001b[0m \u001b[43m    \u001b[49m\u001b[43mf\u001b[49m\u001b[43m,\u001b[49m\n\u001b[1;32m   1880\u001b[0m \u001b[43m    \u001b[49m\u001b[43mmode\u001b[49m\u001b[43m,\u001b[49m\n\u001b[1;32m   1881\u001b[0m \u001b[43m    \u001b[49m\u001b[43mencoding\u001b[49m\u001b[38;5;241;43m=\u001b[39;49m\u001b[38;5;28;43mself\u001b[39;49m\u001b[38;5;241;43m.\u001b[39;49m\u001b[43moptions\u001b[49m\u001b[38;5;241;43m.\u001b[39;49m\u001b[43mget\u001b[49m\u001b[43m(\u001b[49m\u001b[38;5;124;43m\"\u001b[39;49m\u001b[38;5;124;43mencoding\u001b[39;49m\u001b[38;5;124;43m\"\u001b[39;49m\u001b[43m,\u001b[49m\u001b[43m \u001b[49m\u001b[38;5;28;43;01mNone\u001b[39;49;00m\u001b[43m)\u001b[49m\u001b[43m,\u001b[49m\n\u001b[1;32m   1882\u001b[0m \u001b[43m    \u001b[49m\u001b[43mcompression\u001b[49m\u001b[38;5;241;43m=\u001b[39;49m\u001b[38;5;28;43mself\u001b[39;49m\u001b[38;5;241;43m.\u001b[39;49m\u001b[43moptions\u001b[49m\u001b[38;5;241;43m.\u001b[39;49m\u001b[43mget\u001b[49m\u001b[43m(\u001b[49m\u001b[38;5;124;43m\"\u001b[39;49m\u001b[38;5;124;43mcompression\u001b[39;49m\u001b[38;5;124;43m\"\u001b[39;49m\u001b[43m,\u001b[49m\u001b[43m \u001b[49m\u001b[38;5;28;43;01mNone\u001b[39;49;00m\u001b[43m)\u001b[49m\u001b[43m,\u001b[49m\n\u001b[1;32m   1883\u001b[0m \u001b[43m    \u001b[49m\u001b[43mmemory_map\u001b[49m\u001b[38;5;241;43m=\u001b[39;49m\u001b[38;5;28;43mself\u001b[39;49m\u001b[38;5;241;43m.\u001b[39;49m\u001b[43moptions\u001b[49m\u001b[38;5;241;43m.\u001b[39;49m\u001b[43mget\u001b[49m\u001b[43m(\u001b[49m\u001b[38;5;124;43m\"\u001b[39;49m\u001b[38;5;124;43mmemory_map\u001b[39;49m\u001b[38;5;124;43m\"\u001b[39;49m\u001b[43m,\u001b[49m\u001b[43m \u001b[49m\u001b[38;5;28;43;01mFalse\u001b[39;49;00m\u001b[43m)\u001b[49m\u001b[43m,\u001b[49m\n\u001b[1;32m   1884\u001b[0m \u001b[43m    \u001b[49m\u001b[43mis_text\u001b[49m\u001b[38;5;241;43m=\u001b[39;49m\u001b[43mis_text\u001b[49m\u001b[43m,\u001b[49m\n\u001b[1;32m   1885\u001b[0m \u001b[43m    \u001b[49m\u001b[43merrors\u001b[49m\u001b[38;5;241;43m=\u001b[39;49m\u001b[38;5;28;43mself\u001b[39;49m\u001b[38;5;241;43m.\u001b[39;49m\u001b[43moptions\u001b[49m\u001b[38;5;241;43m.\u001b[39;49m\u001b[43mget\u001b[49m\u001b[43m(\u001b[49m\u001b[38;5;124;43m\"\u001b[39;49m\u001b[38;5;124;43mencoding_errors\u001b[39;49m\u001b[38;5;124;43m\"\u001b[39;49m\u001b[43m,\u001b[49m\u001b[43m \u001b[49m\u001b[38;5;124;43m\"\u001b[39;49m\u001b[38;5;124;43mstrict\u001b[39;49m\u001b[38;5;124;43m\"\u001b[39;49m\u001b[43m)\u001b[49m\u001b[43m,\u001b[49m\n\u001b[1;32m   1886\u001b[0m \u001b[43m    \u001b[49m\u001b[43mstorage_options\u001b[49m\u001b[38;5;241;43m=\u001b[39;49m\u001b[38;5;28;43mself\u001b[39;49m\u001b[38;5;241;43m.\u001b[39;49m\u001b[43moptions\u001b[49m\u001b[38;5;241;43m.\u001b[39;49m\u001b[43mget\u001b[49m\u001b[43m(\u001b[49m\u001b[38;5;124;43m\"\u001b[39;49m\u001b[38;5;124;43mstorage_options\u001b[39;49m\u001b[38;5;124;43m\"\u001b[39;49m\u001b[43m,\u001b[49m\u001b[43m \u001b[49m\u001b[38;5;28;43;01mNone\u001b[39;49;00m\u001b[43m)\u001b[49m\u001b[43m,\u001b[49m\n\u001b[1;32m   1887\u001b[0m \u001b[43m\u001b[49m\u001b[43m)\u001b[49m\n\u001b[1;32m   1888\u001b[0m \u001b[38;5;28;01massert\u001b[39;00m \u001b[38;5;28mself\u001b[39m\u001b[38;5;241m.\u001b[39mhandles \u001b[38;5;129;01mis\u001b[39;00m \u001b[38;5;129;01mnot\u001b[39;00m \u001b[38;5;28;01mNone\u001b[39;00m\n\u001b[1;32m   1889\u001b[0m f \u001b[38;5;241m=\u001b[39m \u001b[38;5;28mself\u001b[39m\u001b[38;5;241m.\u001b[39mhandles\u001b[38;5;241m.\u001b[39mhandle\n",
      "File \u001b[0;32m~/.local/lib/python3.10/site-packages/pandas/io/common.py:873\u001b[0m, in \u001b[0;36mget_handle\u001b[0;34m(path_or_buf, mode, encoding, compression, memory_map, is_text, errors, storage_options)\u001b[0m\n\u001b[1;32m    868\u001b[0m \u001b[38;5;28;01melif\u001b[39;00m \u001b[38;5;28misinstance\u001b[39m(handle, \u001b[38;5;28mstr\u001b[39m):\n\u001b[1;32m    869\u001b[0m     \u001b[38;5;66;03m# Check whether the filename is to be opened in binary mode.\u001b[39;00m\n\u001b[1;32m    870\u001b[0m     \u001b[38;5;66;03m# Binary mode does not support 'encoding' and 'newline'.\u001b[39;00m\n\u001b[1;32m    871\u001b[0m     \u001b[38;5;28;01mif\u001b[39;00m ioargs\u001b[38;5;241m.\u001b[39mencoding \u001b[38;5;129;01mand\u001b[39;00m \u001b[38;5;124m\"\u001b[39m\u001b[38;5;124mb\u001b[39m\u001b[38;5;124m\"\u001b[39m \u001b[38;5;129;01mnot\u001b[39;00m \u001b[38;5;129;01min\u001b[39;00m ioargs\u001b[38;5;241m.\u001b[39mmode:\n\u001b[1;32m    872\u001b[0m         \u001b[38;5;66;03m# Encoding\u001b[39;00m\n\u001b[0;32m--> 873\u001b[0m         handle \u001b[38;5;241m=\u001b[39m \u001b[38;5;28;43mopen\u001b[39;49m\u001b[43m(\u001b[49m\n\u001b[1;32m    874\u001b[0m \u001b[43m            \u001b[49m\u001b[43mhandle\u001b[49m\u001b[43m,\u001b[49m\n\u001b[1;32m    875\u001b[0m \u001b[43m            \u001b[49m\u001b[43mioargs\u001b[49m\u001b[38;5;241;43m.\u001b[39;49m\u001b[43mmode\u001b[49m\u001b[43m,\u001b[49m\n\u001b[1;32m    876\u001b[0m \u001b[43m            \u001b[49m\u001b[43mencoding\u001b[49m\u001b[38;5;241;43m=\u001b[39;49m\u001b[43mioargs\u001b[49m\u001b[38;5;241;43m.\u001b[39;49m\u001b[43mencoding\u001b[49m\u001b[43m,\u001b[49m\n\u001b[1;32m    877\u001b[0m \u001b[43m            \u001b[49m\u001b[43merrors\u001b[49m\u001b[38;5;241;43m=\u001b[39;49m\u001b[43merrors\u001b[49m\u001b[43m,\u001b[49m\n\u001b[1;32m    878\u001b[0m \u001b[43m            \u001b[49m\u001b[43mnewline\u001b[49m\u001b[38;5;241;43m=\u001b[39;49m\u001b[38;5;124;43m\"\u001b[39;49m\u001b[38;5;124;43m\"\u001b[39;49m\u001b[43m,\u001b[49m\n\u001b[1;32m    879\u001b[0m \u001b[43m        \u001b[49m\u001b[43m)\u001b[49m\n\u001b[1;32m    880\u001b[0m     \u001b[38;5;28;01melse\u001b[39;00m:\n\u001b[1;32m    881\u001b[0m         \u001b[38;5;66;03m# Binary mode\u001b[39;00m\n\u001b[1;32m    882\u001b[0m         handle \u001b[38;5;241m=\u001b[39m \u001b[38;5;28mopen\u001b[39m(handle, ioargs\u001b[38;5;241m.\u001b[39mmode)\n",
      "\u001b[0;31mFileNotFoundError\u001b[0m: [Errno 2] No such file or directory: 'loan.csv'"
     ]
    }
   ],
   "source": [
    "import pandas as pandas\n",
    "loan_data = pandas.read_csv('loan.csv')\n",
    "loan_data.head()"
   ]
  },
  {
   "cell_type": "code",
   "execution_count": 52,
   "id": "2b774b95",
   "metadata": {},
   "outputs": [
    {
     "ename": "NameError",
     "evalue": "name 'loan_data' is not defined",
     "output_type": "error",
     "traceback": [
      "\u001b[0;31m---------------------------------------------------------------------------\u001b[0m",
      "\u001b[0;31mNameError\u001b[0m                                 Traceback (most recent call last)",
      "Cell \u001b[0;32mIn[52], line 1\u001b[0m\n\u001b[0;32m----> 1\u001b[0m \u001b[43mloan_data\u001b[49m\u001b[38;5;241m.\u001b[39minfo()\n",
      "\u001b[0;31mNameError\u001b[0m: name 'loan_data' is not defined"
     ]
    }
   ],
   "source": [
    "loan_data.info()"
   ]
  },
  {
   "cell_type": "code",
   "execution_count": 53,
   "id": "3aae3812",
   "metadata": {},
   "outputs": [
    {
     "ename": "NameError",
     "evalue": "name 'loan_data' is not defined",
     "output_type": "error",
     "traceback": [
      "\u001b[0;31m---------------------------------------------------------------------------\u001b[0m",
      "\u001b[0;31mNameError\u001b[0m                                 Traceback (most recent call last)",
      "Cell \u001b[0;32mIn[53], line 1\u001b[0m\n\u001b[0;32m----> 1\u001b[0m percent_missing \u001b[38;5;241m=\u001b[39m \u001b[38;5;28mround\u001b[39m(\u001b[38;5;241m100\u001b[39m \u001b[38;5;241m*\u001b[39m(\u001b[43mloan_data\u001b[49m\u001b[38;5;241m.\u001b[39misnull()\u001b[38;5;241m.\u001b[39msum())\u001b[38;5;241m/\u001b[39m\u001b[38;5;28mlen\u001b[39m(loan_data), \u001b[38;5;241m2\u001b[39m)\n",
      "\u001b[0;31mNameError\u001b[0m: name 'loan_data' is not defined"
     ]
    }
   ],
   "source": [
    "percent_missing = round(100 *(loan_data.isnull().sum())/len(loan_data), 2)"
   ]
  },
  {
   "cell_type": "code",
   "execution_count": 54,
   "id": "fdc8e4fb",
   "metadata": {},
   "outputs": [
    {
     "ename": "NameError",
     "evalue": "name 'percent_missing' is not defined",
     "output_type": "error",
     "traceback": [
      "\u001b[0;31m---------------------------------------------------------------------------\u001b[0m",
      "\u001b[0;31mNameError\u001b[0m                                 Traceback (most recent call last)",
      "Cell \u001b[0;32mIn[54], line 1\u001b[0m\n\u001b[0;32m----> 1\u001b[0m \u001b[43mpercent_missing\u001b[49m\n",
      "\u001b[0;31mNameError\u001b[0m: name 'percent_missing' is not defined"
     ]
    }
   ],
   "source": [
    "percent_missing"
   ]
  },
  {
   "cell_type": "code",
   "execution_count": 55,
   "id": "28f02598",
   "metadata": {},
   "outputs": [
    {
     "ename": "NameError",
     "evalue": "name 'loan_data' is not defined",
     "output_type": "error",
     "traceback": [
      "\u001b[0;31m---------------------------------------------------------------------------\u001b[0m",
      "\u001b[0;31mNameError\u001b[0m                                 Traceback (most recent call last)",
      "Cell \u001b[0;32mIn[55], line 1\u001b[0m\n\u001b[0;32m----> 1\u001b[0m cleaned_data \u001b[38;5;241m=\u001b[39m \u001b[43mloan_data\u001b[49m\u001b[38;5;241m.\u001b[39mdrop([\u001b[38;5;124m'\u001b[39m\u001b[38;5;124mpurpose\u001b[39m\u001b[38;5;124m'\u001b[39m,\u001b[38;5;124m'\u001b[39m\u001b[38;5;124mnot_fully_paid\u001b[39m\u001b[38;5;124m'\u001b[39m], axis\u001b[38;5;241m=\u001b[39m\u001b[38;5;241m1\u001b[39m)\n",
      "\u001b[0;31mNameError\u001b[0m: name 'loan_data' is not defined"
     ]
    }
   ],
   "source": [
    "cleaned_data = loan_data.drop(['purpose','not_fully_paid'], axis=1)"
   ]
  },
  {
   "cell_type": "code",
   "execution_count": 57,
   "id": "97546a13",
   "metadata": {},
   "outputs": [],
   "source": [
    "import seaborn as sb\n",
    "def show_boxplot(df):\n",
    "    plt.rcParams['figure.figsize'] = [14, 6]\n",
    "    sb.boxplot(data=df, orient=\"v\")\n",
    "    plt.title(\"Outliers Distribution\", fontsize=16)\n",
    "    plt.ylabel(\"Range\", fontweight='bold')\n",
    "    plt.xlabel(\"Attributes\", fontweight='bold')"
   ]
  },
  {
   "cell_type": "code",
   "execution_count": null,
   "id": "2ba7283b",
   "metadata": {},
   "outputs": [],
   "source": []
  }
 ],
 "metadata": {
  "kernelspec": {
   "display_name": "Python 3 (ipykernel)",
   "language": "python",
   "name": "python3"
  },
  "language_info": {
   "codemirror_mode": {
    "name": "ipython",
    "version": 3
   },
   "file_extension": ".py",
   "mimetype": "text/x-python",
   "name": "python",
   "nbconvert_exporter": "python",
   "pygments_lexer": "ipython3",
   "version": "3.10.6"
  }
 },
 "nbformat": 4,
 "nbformat_minor": 5
}
