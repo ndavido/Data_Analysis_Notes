{
 "cells": [
  {
   "cell_type": "markdown",
   "id": "66b319c4",
   "metadata": {},
   "source": [
    "<ul>\n",
    "    <li><b>Clustering</b> is a machine learning technique that uses unsupervised learning.</li>\n",
    "    <li> Group unlabelled data into natural clusters </li>\n",
    "    <li> Clustering is an optimization problem </li>\n",
    "    <li> $variability(c) = \\sum_{e \\in c} distance(mean(c), e)^2$</li>\n",
    "    <li> Variance is different from variability, you don't divide by n. This is because in clustering big and bad is worse than small and bad. </li>\n",
    "    <li>$dissimilarity(C) = \\sum_{c \\in C}variability(c)$</li>\n",
    "    <li> Find a C that minimises dissimilarity</li>\n",
    "    <li> In order for this not to end up as each point being a cluster we add a constraint e.g. the clusters have to have some minimum distance between them or constrain the number of clusters</li>\n",
    "    </ul>"
   ]
  },
  {
   "cell_type": "markdown",
   "id": "36dd20ca",
   "metadata": {},
   "source": [
    "<ul>\n",
    "    <li><b>Hieracrhical Clustering </b></li>\n",
    "    <li> Start by assigning each item to a cluster so that if you have N items you now have N clusters, each containing just one item</li>\n",
    "    <li>Find the closest (most similar) pair of clusters and merge them into a single cluster, so that now you have one fewer clusters</li>\n",
    "    <li>Continue until all items are clustered into a single cluster of size N</li>\n",
    "    <li> Agglomerative hierarchical clustering </li>\n",
    "    <li> What do we mean by closest?</li>\n",
    "    <li> Can get different clusters depending linkage metric we use </li>\n",
    "    <li> <b>Single Linkage:</b> consider the distance between one clsuter and another cluster to be equal to the shortest distance from any member of one cluster to any member of another cluster</li>\n",
    "    <li><b>Complete linkage</b>: consider the distance between one cluster and another cluster to be equal to the greatest distance from any member of one cluster to any member of the other cluster</li>\n",
    "    <li><b>Average linkage</b>: consider the distance between one cluster and another cluster to be te average distance from any member of one cluster to any member of the other cluster</li>\n",
    "    <ul>\n",
    "    "
   ]
  },
  {
   "cell_type": "markdown",
   "id": "02c3a929",
   "metadata": {},
   "source": [
    "<table style=\"width:50%\">\n",
    "<tr>\n",
    "    <th>BOS</th>    \n",
    "    <th>NY</th>\n",
    "    <th>CHI</th>\n",
    "    <th>DEN</th>\n",
    "    <th>SF</th>\n",
    "    <th>SEA</th>\n",
    "</tr>\n",
    "<tr>\n",
    "    <th>0</th>    \n",
    "    <th>206</th>\n",
    "    <th>963</th>\n",
    "    <th>1949</th>\n",
    "    <th>3095</th>\n",
    "    <th>2979</th>\n",
    "</tr>\n",
    "    <tr>\n",
    "    <th>0</th>    \n",
    "    <th>0</th>\n",
    "    <th>802</th>\n",
    "    <th>1771</th>\n",
    "    <th>2934</th>\n",
    "    <th>2815</th>\n",
    "</tr>\n",
    "<tr>\n",
    "    <th>0</th>    \n",
    "    <th>0</th>\n",
    "    <th>0</th>\n",
    "    <th>966</th>\n",
    "    <th>1235</th>\n",
    "    <th>1307</th>\n",
    "</tr>\n",
    "<tr>\n",
    "    <th>0</th>    \n",
    "    <th>0</th>\n",
    "    <th>0</th>\n",
    "    <th>0</th>\n",
    "    <th>1235</th>\n",
    "    <th>1307</th>\n",
    "</tr>\n",
    "<tr>\n",
    "    <th>0</th>    \n",
    "    <th>0</th>\n",
    "    <th>0</th>\n",
    "    <th>0</th>\n",
    "    <th>0</th>\n",
    "    <th>808</th>\n",
    "</tr>\n",
    "<tr>\n",
    "    <th>0</th>    \n",
    "    <th>0</th>\n",
    "    <th>0</th>\n",
    "    <th>0</th>\n",
    "    <th>0</th>\n",
    "    <th>0</th>\n",
    "</tr>\n",
    "\n",
    "</table>"
   ]
  },
  {
   "cell_type": "markdown",
   "id": "3ce19f41",
   "metadata": {},
   "source": [
    "Cluster airports based on their distance."
   ]
  }
 ],
 "metadata": {
  "kernelspec": {
   "display_name": "Python 3 (ipykernel)",
   "language": "python",
   "name": "python3"
  },
  "language_info": {
   "codemirror_mode": {
    "name": "ipython",
    "version": 3
   },
   "file_extension": ".py",
   "mimetype": "text/x-python",
   "name": "python",
   "nbconvert_exporter": "python",
   "pygments_lexer": "ipython3",
   "version": "3.11.5"
  }
 },
 "nbformat": 4,
 "nbformat_minor": 5
}
