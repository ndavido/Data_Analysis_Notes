{
 "cells": [
  {
   "cell_type": "markdown",
   "metadata": {},
   "source": [
    "## Assuming you covered linear regression"
   ]
  },
  {
   "cell_type": "markdown",
   "metadata": {},
   "source": [
    "A delivery service offers the same day delivery for letters, packages and small cargo. You are able to use Google maps to group individual deliveries into one trip. Some trips have more than one delivery. You would like to estimate how long a delivery will take:\n",
    "1. Total distance of the trip in kilometers.\n",
    "2. The number of deliveries that must be made."
   ]
  },
  {
   "cell_type": "markdown",
   "metadata": {},
   "source": [
    "To conduct the analysis take a random sample of 10 past trips and record:\n",
    "\n",
    "1. Total miles travelled.\n",
    "2. Number of deliveries.\n",
    "3. Total time in hours."
   ]
  },
  {
   "cell_type": "markdown",
   "metadata": {},
   "source": [
    "milesTravelled  deliveries  time hours\n",
    "89              4           7\n",
    "66              1           5.4\n",
    "78              3           6.6\n",
    "111             6           7.4\n",
    "44              1           4.8\n",
    "77              3           6.4\n",
    "80              3           7\n",
    "66              2           5.6\n",
    "109             5           7.3\n",
    "70              2           6.4"
   ]
  },
  {
   "cell_type": "markdown",
   "metadata": {},
   "source": []
  }
 ],
 "metadata": {
  "kernelspec": {
   "display_name": "Python 3",
   "language": "python",
   "name": "python3"
  },
  "language_info": {
   "name": "python",
   "version": "3.10.6"
  }
 },
 "nbformat": 4,
 "nbformat_minor": 2
}
