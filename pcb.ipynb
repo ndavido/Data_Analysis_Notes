{
 "cells": [
  {
   "cell_type": "markdown",
   "metadata": {},
   "source": [
    "# __Principle Component Analysis__"
   ]
  },
  {
   "cell_type": "markdown",
   "metadata": {},
   "source": [
    "<table style=\"width:50%\">\n",
    "    <tr>\n",
    "        <th>Mouse</th>    \n",
    "        <th>Gene 1</th>\n",
    "        <th>Gene 2</th>\n",
    "    </tr>\n",
    "    <tr>\n",
    "        <th>1</th>\n",
    "        <th>10</th>\n",
    "        <th>6</th>\n",
    "    </tr>\n",
    "        <tr>\n",
    "        <th>2</th>\n",
    "        <th>11</th>\n",
    "        <th>4</th>\n",
    "    </tr>\n",
    "    <tr>\n",
    "        <th>3</th>\n",
    "        <th>8</th>\n",
    "        <th>5</th>\n",
    "    </tr>\n",
    "    <tr>\n",
    "        <th>4</th>\n",
    "        <th>3</th>\n",
    "        <th>3</th>\n",
    "    </tr>\n",
    "    <tr>\n",
    "        <th>5</th>\n",
    "        <th>1</th>\n",
    "        <th>2.8</th>\n",
    "    </tr>\n",
    "    <tr>\n",
    "        <th>6</th>\n",
    "        <th>2</th>\n",
    "        <th>1</th>\n",
    "    </tr>\n",
    "</table>"
   ]
  },
  {
   "cell_type": "markdown",
   "metadata": {},
   "source": [
    "If we only measure Gene 1 how can i seperate the mice? We can plot on a line"
   ]
  },
  {
   "cell_type": "code",
   "execution_count": 4,
   "metadata": {},
   "outputs": [],
   "source": [
    "from matplotlib import pyplot as plt\n",
    "import numpy as np"
   ]
  },
  {
   "cell_type": "code",
   "execution_count": 6,
   "metadata": {},
   "outputs": [
    {
     "data": {
      "text/plain": [
       "[<matplotlib.lines.Line2D at 0x7f5a356ca680>]"
      ]
     },
     "execution_count": 6,
     "metadata": {},
     "output_type": "execute_result"
    },
    {
     "data": {
      "image/png": "[encoded data removed]",
      "text/plain": [
       "<Figure size 640x480 with 1 Axes>"
      ]
     },
     "metadata": {},
     "output_type": "display_data"
    }
   ],
   "source": [
    "gene1= [10,11,8,3,1,2]\n",
    "plt.plot(gene1, np.zeros_like(gene1) + 0, 'o')"
   ]
  },
  {
   "cell_type": "markdown",
   "metadata": {},
   "source": [
    "Mice 1, 2 and 3 are more similar to each other than they are to mice 4, 5 and 6"
   ]
  }
 ],
 "metadata": {
  "kernelspec": {
   "display_name": "Python 3",
   "language": "python",
   "name": "python3"
  },
  "language_info": {
   "codemirror_mode": {
    "name": "ipython",
    "version": 3
   },
   "file_extension": ".py",
   "mimetype": "text/x-python",
   "name": "python",
   "nbconvert_exporter": "python",
   "pygments_lexer": "ipython3",
   "version": "3.10.6"
  }
 },
 "nbformat": 4,
 "nbformat_minor": 2
}
